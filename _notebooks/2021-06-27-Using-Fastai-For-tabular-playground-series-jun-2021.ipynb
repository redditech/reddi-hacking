{
 "cells": [
  {
   "cell_type": "markdown",
   "metadata": {
    "id": "HrgdjN3n-Y-S"
   },
   "source": [
    "# Using Fastai Tabular For Tabular Playground Series June 2021 Competition\n",
    "> Here I use fastai with some changes to the defaults to make a submission to Kaggle for the Tabular Playground Series June 2021 competition.\n",
    "\n",
    "- toc: true \n",
    "- badges: true\n",
    "- comments: true\n",
    "- categories: [kaggle, fastai]\n",
    "- author: Nissan Dookeran\n",
    "- image: images/chart-preview.png"
   ]
  },
  {
   "cell_type": "markdown",
   "metadata": {
    "id": "1BhumH9q-wau"
   },
   "source": [
    "## Introduction\n",
    "\n",
    "This is a modification of the [\"first pass\" submission](https://redditech.github.io/team-fast-tabulous/kaggle/fastai/2021/06/25/_First_Pass_Using_Fastai_For_Homesite_Competition.html) to the Homesite Competition on Kaggle Competition using Google Colab, but modifying some of the default parameters and maybe adding some learning from the [initial exploratory data analysis](https://redditech.github.io/team-fast-tabulous/kaggle/2021/06/23/Exploring-Homesite_Data.html) on other projects to apply to this one, to see if I can applying what was learnt so far to see how it fairs in a submission.\n",
    "\n",
    "Changes made:\n",
    "- Use TestTrainSplitter() for making test and validation sets more fairly weighted based on the bias of any input data towards negative results\n",
    "- Increase batch size to 1024 to make training shorter, but to still hopefully get a better predictor for it. Set a separate validator batch size to 128.\n",
    "- Increase the validation percentage to 0.25\n",
    "- Fix the learning rate to 1e-3\n",
    "- Increase epochs to 5\n",
    "- Modified the `cat_names` and `cont_names` arrays with any initial EDA insights\n",
    "- Add a date part for dates\n",
    "- Add weight decay of 0.2"
   ]
  },
  {
   "cell_type": "markdown",
   "metadata": {
    "id": "xdjWKKWaPyBb"
   },
   "source": [
    "## Setup fastai and Google drive"
   ]
  },
  {
   "cell_type": "code",
   "execution_count": 1,
   "metadata": {
    "executionInfo": {
     "elapsed": 3585,
     "status": "ok",
     "timestamp": 1624772511324,
     "user": {
      "displayName": "Nissan Dookeran",
      "photoUrl": "https://lh3.googleusercontent.com/a-/AOh14GjX7TWnLkg-K8TmlLAPixO8NhfoICak-b5lZGGqXeU=s64",
      "userId": "10969188591745969823"
     },
     "user_tz": -600
    },
    "id": "QcCBkFgv-mz9"
   },
   "outputs": [],
   "source": [
    "!pip install -Uqq fastai\n"
   ]
  },
  {
   "cell_type": "code",
   "execution_count": 2,
   "metadata": {
    "executionInfo": {
     "elapsed": 1180,
     "status": "ok",
     "timestamp": 1624772512492,
     "user": {
      "displayName": "Nissan Dookeran",
      "photoUrl": "https://lh3.googleusercontent.com/a-/AOh14GjX7TWnLkg-K8TmlLAPixO8NhfoICak-b5lZGGqXeU=s64",
      "userId": "10969188591745969823"
     },
     "user_tz": -600
    },
    "id": "q-yyiRar-2TT"
   },
   "outputs": [],
   "source": [
    "from fastai.tabular.all import *"
   ]
  },
  {
   "cell_type": "code",
   "execution_count": 3,
   "metadata": {
    "executionInfo": {
     "elapsed": 45,
     "status": "ok",
     "timestamp": 1624772512495,
     "user": {
      "displayName": "Nissan Dookeran",
      "photoUrl": "https://lh3.googleusercontent.com/a-/AOh14GjX7TWnLkg-K8TmlLAPixO8NhfoICak-b5lZGGqXeU=s64",
      "userId": "10969188591745969823"
     },
     "user_tz": -600
    },
    "id": "MJROzqXT_j5M"
   },
   "outputs": [
    {
     "name": "stdout",
     "output_type": "stream",
     "text": [
      "Requirement already satisfied: kaggle in /home/nissan/miniconda3/envs/fastai/lib/python3.9/site-packages (1.5.12)\n",
      "Requirement already satisfied: python-dateutil in /home/nissan/miniconda3/envs/fastai/lib/python3.9/site-packages (from kaggle) (2.8.1)\n",
      "Requirement already satisfied: six>=1.10 in /home/nissan/miniconda3/envs/fastai/lib/python3.9/site-packages (from kaggle) (1.16.0)\n",
      "Requirement already satisfied: tqdm in /home/nissan/miniconda3/envs/fastai/lib/python3.9/site-packages (from kaggle) (4.61.1)\n",
      "Requirement already satisfied: urllib3 in /home/nissan/miniconda3/envs/fastai/lib/python3.9/site-packages (from kaggle) (1.26.4)\n",
      "Requirement already satisfied: python-slugify in /home/nissan/miniconda3/envs/fastai/lib/python3.9/site-packages (from kaggle) (5.0.2)\n",
      "Requirement already satisfied: certifi in /home/nissan/miniconda3/envs/fastai/lib/python3.9/site-packages (from kaggle) (2021.5.30)\n",
      "Requirement already satisfied: requests in /home/nissan/miniconda3/envs/fastai/lib/python3.9/site-packages (from kaggle) (2.25.1)\n",
      "Requirement already satisfied: text-unidecode>=1.3 in /home/nissan/miniconda3/envs/fastai/lib/python3.9/site-packages (from python-slugify->kaggle) (1.3)\n",
      "Requirement already satisfied: chardet<5,>=3.0.2 in /home/nissan/miniconda3/envs/fastai/lib/python3.9/site-packages (from requests->kaggle) (4.0.0)\n",
      "Requirement already satisfied: idna<3,>=2.5 in /home/nissan/miniconda3/envs/fastai/lib/python3.9/site-packages (from requests->kaggle) (2.10)\n"
     ]
    }
   ],
   "source": [
    "!pip install kaggle"
   ]
  },
  {
   "cell_type": "markdown",
   "metadata": {
    "id": "2pVlBEhtC_hw"
   },
   "source": [
    "Useful links here:\n",
    "- Documentation on [Path library](https://docs.python.org/3/library/pathlib.html#basic-use)\n",
    "- Documentation on [fastai extensions to Path library](https://fastcore.fast.ai/xtras.html#Extensions-to-Pathlib.Path)"
   ]
  },
  {
   "cell_type": "code",
   "execution_count": 4,
   "metadata": {
    "colab": {
     "base_uri": "https://localhost:8080/"
    },
    "executionInfo": {
     "elapsed": 21,
     "status": "ok",
     "timestamp": 1624772512496,
     "user": {
      "displayName": "Nissan Dookeran",
      "photoUrl": "https://lh3.googleusercontent.com/a-/AOh14GjX7TWnLkg-K8TmlLAPixO8NhfoICak-b5lZGGqXeU=s64",
      "userId": "10969188591745969823"
     },
     "user_tz": -600
    },
    "id": "7UuQ_iUgA36I",
    "outputId": "7833e9a4-e040-4c04-a3c1-787a46978058"
   },
   "outputs": [
    {
     "data": {
      "text/plain": [
       "Path('/mnt/d/Code/GitHub/reddi-hacking/_notebooks')"
      ]
     },
     "execution_count": 4,
     "metadata": {},
     "output_type": "execute_result"
    }
   ],
   "source": [
    "Path.cwd()"
   ]
  },
  {
   "cell_type": "markdown",
   "metadata": {
    "id": "GBTHLGMm8u5k"
   },
   "source": [
    "## Environment Setup\n",
    "> Setup the environment variables here (these will change as we play around to get the best model for submission)\n",
    "- Set the random seed so that the results are reproducible\n",
    "- Set the batch size for training\n",
    "- Set the batch size for validation\n",
    "- Set what portion of training data to set aside for validation\n",
    "- Set the number of epochs of training to run to not overfit\n",
    "- Set the learning rate to be used\n",
    "- Set the weight decay"
   ]
  },
  {
   "cell_type": "code",
   "execution_count": 5,
   "metadata": {
    "executionInfo": {
     "elapsed": 7,
     "status": "ok",
     "timestamp": 1624772512497,
     "user": {
      "displayName": "Nissan Dookeran",
      "photoUrl": "https://lh3.googleusercontent.com/a-/AOh14GjX7TWnLkg-K8TmlLAPixO8NhfoICak-b5lZGGqXeU=s64",
      "userId": "10969188591745969823"
     },
     "user_tz": -600
    },
    "id": "-sH_LXGf83lo"
   },
   "outputs": [],
   "source": [
    "set_seed(42) \n",
    "bs = 1024\n",
    "val_bs = 128\n",
    "test_size = 0.25\n",
    "epochs = 5\n",
    "lr = 1e-3\n",
    "wd=0.2"
   ]
  },
  {
   "cell_type": "markdown",
   "metadata": {
    "id": "SIohCjWZQAta"
   },
   "source": [
    "## Setup kaggle environment parameters"
   ]
  },
  {
   "cell_type": "code",
   "execution_count": 6,
   "metadata": {
    "executionInfo": {
     "elapsed": 27,
     "status": "ok",
     "timestamp": 1624772512998,
     "user": {
      "displayName": "Nissan Dookeran",
      "photoUrl": "https://lh3.googleusercontent.com/a-/AOh14GjX7TWnLkg-K8TmlLAPixO8NhfoICak-b5lZGGqXeU=s64",
      "userId": "10969188591745969823"
     },
     "user_tz": -600
    },
    "id": "GWNTnLtf_CDU"
   },
   "outputs": [],
   "source": [
    "from kaggle import api"
   ]
  },
  {
   "cell_type": "code",
   "execution_count": 7,
   "metadata": {
    "colab": {
     "base_uri": "https://localhost:8080/"
    },
    "executionInfo": {
     "elapsed": 27,
     "status": "ok",
     "timestamp": 1624772512998,
     "user": {
      "displayName": "Nissan Dookeran",
      "photoUrl": "https://lh3.googleusercontent.com/a-/AOh14GjX7TWnLkg-K8TmlLAPixO8NhfoICak-b5lZGGqXeU=s64",
      "userId": "10969188591745969823"
     },
     "user_tz": -600
    },
    "id": "tME3KRxkA-B0",
    "outputId": "c89d49e0-764b-4487-fe47-e982d9a5ad0c"
   },
   "outputs": [
    {
     "data": {
      "text/plain": [
       "(#10) [Path('/mnt/d/Code/GitHub/reddi-hacking/_notebooks/.gitignore'),Path('/mnt/d/Code/GitHub/reddi-hacking/_notebooks/.ipynb_checkpoints'),Path('/mnt/d/Code/GitHub/reddi-hacking/_notebooks/2021-06-21-Getting-Data-In-Kaggle.ipynb'),Path('/mnt/d/Code/GitHub/reddi-hacking/_notebooks/2021-06-27-Using-Fastai-For-tabular-playground-series-jun-2021.ipynb'),Path('/mnt/d/Code/GitHub/reddi-hacking/_notebooks/2021_06_23_Messing_around_with_fastai.ipynb'),Path('/mnt/d/Code/GitHub/reddi-hacking/_notebooks/ghtop_images'),Path('/mnt/d/Code/GitHub/reddi-hacking/_notebooks/my_icons'),Path('/mnt/d/Code/GitHub/reddi-hacking/_notebooks/README.md'),Path('/mnt/d/Code/GitHub/reddi-hacking/_notebooks/Untitled.ipynb'),Path('/mnt/d/Code/GitHub/reddi-hacking/_notebooks/_data')]"
      ]
     },
     "execution_count": 7,
     "metadata": {},
     "output_type": "execute_result"
    }
   ],
   "source": [
    "path = Path.cwd()\n",
    "path.ls()"
   ]
  },
  {
   "cell_type": "markdown",
   "metadata": {},
   "source": [
    "> This bit is to make sure I don't checkin my data to Github when I'm finished"
   ]
  },
  {
   "cell_type": "code",
   "execution_count": 8,
   "metadata": {},
   "outputs": [],
   "source": [
    "!touch .gitignore"
   ]
  },
  {
   "cell_type": "code",
   "execution_count": 9,
   "metadata": {},
   "outputs": [],
   "source": [
    "!echo \"_data\" > .gitignore"
   ]
  },
  {
   "cell_type": "code",
   "execution_count": 10,
   "metadata": {},
   "outputs": [
    {
     "name": "stdout",
     "output_type": "stream",
     "text": [
      "_data\n"
     ]
    }
   ],
   "source": [
    "!head .gitignore"
   ]
  },
  {
   "cell_type": "code",
   "execution_count": 11,
   "metadata": {},
   "outputs": [
    {
     "name": "stdout",
     "output_type": "stream",
     "text": [
      "mkdir: cannot create directory ‘_data’: File exists\n"
     ]
    }
   ],
   "source": [
    "!mkdir _data"
   ]
  },
  {
   "cell_type": "code",
   "execution_count": 12,
   "metadata": {},
   "outputs": [
    {
     "data": {
      "text/plain": [
       "Path('/mnt/d/Code/GitHub/reddi-hacking/_notebooks/_data')"
      ]
     },
     "execution_count": 12,
     "metadata": {},
     "output_type": "execute_result"
    }
   ],
   "source": [
    "os.chdir('_data')\n",
    "Path.cwd()"
   ]
  },
  {
   "cell_type": "code",
   "execution_count": 13,
   "metadata": {
    "colab": {
     "base_uri": "https://localhost:8080/"
    },
    "executionInfo": {
     "elapsed": 575,
     "status": "ok",
     "timestamp": 1624772513570,
     "user": {
      "displayName": "Nissan Dookeran",
      "photoUrl": "https://lh3.googleusercontent.com/a-/AOh14GjX7TWnLkg-K8TmlLAPixO8NhfoICak-b5lZGGqXeU=s64",
      "userId": "10969188591745969823"
     },
     "user_tz": -600
    },
    "id": "k0_R0AtX_aSd",
    "outputId": "77f7cde4-8ce6-4ad7-f646-111caa5e42ba"
   },
   "outputs": [
    {
     "name": "stdout",
     "output_type": "stream",
     "text": [
      "tabular-playground-series-jun-2021.zip: Skipping, found more recently modified local copy (use --force to force download)\n"
     ]
    }
   ],
   "source": [
    "path = Path.cwd()/\"playground_Jun_2021_data\"\n",
    "path.mkdir(exist_ok=True)\n",
    "Path.BASE_PATH = path\n",
    "api.competition_download_cli('tabular-playground-series-jun-2021', path=path)\n"
   ]
  },
  {
   "cell_type": "code",
   "execution_count": 14,
   "metadata": {
    "colab": {
     "base_uri": "https://localhost:8080/"
    },
    "executionInfo": {
     "elapsed": 16,
     "status": "ok",
     "timestamp": 1624772513571,
     "user": {
      "displayName": "Nissan Dookeran",
      "photoUrl": "https://lh3.googleusercontent.com/a-/AOh14GjX7TWnLkg-K8TmlLAPixO8NhfoICak-b5lZGGqXeU=s64",
      "userId": "10969188591745969823"
     },
     "user_tz": -600
    },
    "id": "cT6hXHhsB3AU",
    "outputId": "4cf0be3a-7d2b-4c38-f38e-a61cff33ea5b"
   },
   "outputs": [
    {
     "data": {
      "text/plain": [
       "(#5) [Path('sample_submission.csv'),Path('submission8.csv'),Path('tabular-playground-series-jun-2021.zip'),Path('test.csv'),Path('train.csv')]"
      ]
     },
     "execution_count": 14,
     "metadata": {},
     "output_type": "execute_result"
    }
   ],
   "source": [
    "path.ls()"
   ]
  },
  {
   "cell_type": "code",
   "execution_count": 15,
   "metadata": {
    "executionInfo": {
     "elapsed": 963,
     "status": "ok",
     "timestamp": 1624772514531,
     "user": {
      "displayName": "Nissan Dookeran",
      "photoUrl": "https://lh3.googleusercontent.com/a-/AOh14GjX7TWnLkg-K8TmlLAPixO8NhfoICak-b5lZGGqXeU=s64",
      "userId": "10969188591745969823"
     },
     "user_tz": -600
    },
    "id": "XfsxQFKtZOgH"
   },
   "outputs": [],
   "source": [
    "file_extract(path/\"tabular-playground-series-jun-2021.zip\")"
   ]
  },
  {
   "cell_type": "code",
   "execution_count": 16,
   "metadata": {
    "colab": {
     "base_uri": "https://localhost:8080/"
    },
    "executionInfo": {
     "elapsed": 12,
     "status": "ok",
     "timestamp": 1624772514533,
     "user": {
      "displayName": "Nissan Dookeran",
      "photoUrl": "https://lh3.googleusercontent.com/a-/AOh14GjX7TWnLkg-K8TmlLAPixO8NhfoICak-b5lZGGqXeU=s64",
      "userId": "10969188591745969823"
     },
     "user_tz": -600
    },
    "id": "w_b0bi2WZT32",
    "outputId": "4eb0504f-4771-46d9-a28e-dc274344ee33"
   },
   "outputs": [
    {
     "data": {
      "text/plain": [
       "(#5) [Path('sample_submission.csv'),Path('submission8.csv'),Path('tabular-playground-series-jun-2021.zip'),Path('test.csv'),Path('train.csv')]"
      ]
     },
     "execution_count": 16,
     "metadata": {},
     "output_type": "execute_result"
    }
   ],
   "source": [
    "path.ls()"
   ]
  },
  {
   "cell_type": "markdown",
   "metadata": {
    "id": "blJJadPOQNtL"
   },
   "source": [
    "## Exploring the Playground data"
   ]
  },
  {
   "cell_type": "code",
   "execution_count": 17,
   "metadata": {
    "colab": {
     "base_uri": "https://localhost:8080/",
     "height": 224
    },
    "executionInfo": {
     "elapsed": 2168,
     "status": "ok",
     "timestamp": 1624772516698,
     "user": {
      "displayName": "Nissan Dookeran",
      "photoUrl": "https://lh3.googleusercontent.com/a-/AOh14GjX7TWnLkg-K8TmlLAPixO8NhfoICak-b5lZGGqXeU=s64",
      "userId": "10969188591745969823"
     },
     "user_tz": -600
    },
    "id": "AMscLNhPB4ar",
    "outputId": "b080662c-2a6f-4e3e-a6e7-4b512745127a"
   },
   "outputs": [
    {
     "data": {
      "text/html": [
       "<div>\n",
       "<style scoped>\n",
       "    .dataframe tbody tr th:only-of-type {\n",
       "        vertical-align: middle;\n",
       "    }\n",
       "\n",
       "    .dataframe tbody tr th {\n",
       "        vertical-align: top;\n",
       "    }\n",
       "\n",
       "    .dataframe thead th {\n",
       "        text-align: right;\n",
       "    }\n",
       "</style>\n",
       "<table border=\"1\" class=\"dataframe\">\n",
       "  <thead>\n",
       "    <tr style=\"text-align: right;\">\n",
       "      <th></th>\n",
       "      <th>id</th>\n",
       "      <th>feature_0</th>\n",
       "      <th>feature_1</th>\n",
       "      <th>feature_2</th>\n",
       "      <th>feature_3</th>\n",
       "      <th>feature_4</th>\n",
       "      <th>feature_5</th>\n",
       "      <th>feature_6</th>\n",
       "      <th>feature_7</th>\n",
       "      <th>feature_8</th>\n",
       "      <th>...</th>\n",
       "      <th>feature_66</th>\n",
       "      <th>feature_67</th>\n",
       "      <th>feature_68</th>\n",
       "      <th>feature_69</th>\n",
       "      <th>feature_70</th>\n",
       "      <th>feature_71</th>\n",
       "      <th>feature_72</th>\n",
       "      <th>feature_73</th>\n",
       "      <th>feature_74</th>\n",
       "      <th>target</th>\n",
       "    </tr>\n",
       "  </thead>\n",
       "  <tbody>\n",
       "    <tr>\n",
       "      <th>0</th>\n",
       "      <td>0</td>\n",
       "      <td>0</td>\n",
       "      <td>0</td>\n",
       "      <td>6</td>\n",
       "      <td>1</td>\n",
       "      <td>0</td>\n",
       "      <td>0</td>\n",
       "      <td>0</td>\n",
       "      <td>0</td>\n",
       "      <td>7</td>\n",
       "      <td>...</td>\n",
       "      <td>0</td>\n",
       "      <td>0</td>\n",
       "      <td>0</td>\n",
       "      <td>0</td>\n",
       "      <td>0</td>\n",
       "      <td>0</td>\n",
       "      <td>2</td>\n",
       "      <td>0</td>\n",
       "      <td>0</td>\n",
       "      <td>Class_6</td>\n",
       "    </tr>\n",
       "    <tr>\n",
       "      <th>1</th>\n",
       "      <td>1</td>\n",
       "      <td>0</td>\n",
       "      <td>0</td>\n",
       "      <td>0</td>\n",
       "      <td>0</td>\n",
       "      <td>0</td>\n",
       "      <td>0</td>\n",
       "      <td>0</td>\n",
       "      <td>0</td>\n",
       "      <td>0</td>\n",
       "      <td>...</td>\n",
       "      <td>2</td>\n",
       "      <td>0</td>\n",
       "      <td>0</td>\n",
       "      <td>0</td>\n",
       "      <td>0</td>\n",
       "      <td>0</td>\n",
       "      <td>0</td>\n",
       "      <td>1</td>\n",
       "      <td>0</td>\n",
       "      <td>Class_6</td>\n",
       "    </tr>\n",
       "    <tr>\n",
       "      <th>2</th>\n",
       "      <td>2</td>\n",
       "      <td>0</td>\n",
       "      <td>0</td>\n",
       "      <td>0</td>\n",
       "      <td>0</td>\n",
       "      <td>0</td>\n",
       "      <td>1</td>\n",
       "      <td>0</td>\n",
       "      <td>3</td>\n",
       "      <td>0</td>\n",
       "      <td>...</td>\n",
       "      <td>0</td>\n",
       "      <td>0</td>\n",
       "      <td>0</td>\n",
       "      <td>0</td>\n",
       "      <td>1</td>\n",
       "      <td>0</td>\n",
       "      <td>0</td>\n",
       "      <td>0</td>\n",
       "      <td>0</td>\n",
       "      <td>Class_2</td>\n",
       "    </tr>\n",
       "    <tr>\n",
       "      <th>3</th>\n",
       "      <td>3</td>\n",
       "      <td>0</td>\n",
       "      <td>0</td>\n",
       "      <td>7</td>\n",
       "      <td>0</td>\n",
       "      <td>1</td>\n",
       "      <td>5</td>\n",
       "      <td>2</td>\n",
       "      <td>2</td>\n",
       "      <td>0</td>\n",
       "      <td>...</td>\n",
       "      <td>0</td>\n",
       "      <td>4</td>\n",
       "      <td>0</td>\n",
       "      <td>2</td>\n",
       "      <td>2</td>\n",
       "      <td>0</td>\n",
       "      <td>4</td>\n",
       "      <td>3</td>\n",
       "      <td>0</td>\n",
       "      <td>Class_8</td>\n",
       "    </tr>\n",
       "    <tr>\n",
       "      <th>4</th>\n",
       "      <td>4</td>\n",
       "      <td>1</td>\n",
       "      <td>0</td>\n",
       "      <td>0</td>\n",
       "      <td>0</td>\n",
       "      <td>0</td>\n",
       "      <td>0</td>\n",
       "      <td>0</td>\n",
       "      <td>0</td>\n",
       "      <td>0</td>\n",
       "      <td>...</td>\n",
       "      <td>0</td>\n",
       "      <td>0</td>\n",
       "      <td>0</td>\n",
       "      <td>0</td>\n",
       "      <td>0</td>\n",
       "      <td>0</td>\n",
       "      <td>0</td>\n",
       "      <td>0</td>\n",
       "      <td>0</td>\n",
       "      <td>Class_2</td>\n",
       "    </tr>\n",
       "  </tbody>\n",
       "</table>\n",
       "<p>5 rows × 77 columns</p>\n",
       "</div>"
      ],
      "text/plain": [
       "   id  feature_0  feature_1  feature_2  feature_3  feature_4  feature_5  \\\n",
       "0   0          0          0          6          1          0          0   \n",
       "1   1          0          0          0          0          0          0   \n",
       "2   2          0          0          0          0          0          1   \n",
       "3   3          0          0          7          0          1          5   \n",
       "4   4          1          0          0          0          0          0   \n",
       "\n",
       "   feature_6  feature_7  feature_8  ...  feature_66  feature_67  feature_68  \\\n",
       "0          0          0          7  ...           0           0           0   \n",
       "1          0          0          0  ...           2           0           0   \n",
       "2          0          3          0  ...           0           0           0   \n",
       "3          2          2          0  ...           0           4           0   \n",
       "4          0          0          0  ...           0           0           0   \n",
       "\n",
       "   feature_69  feature_70  feature_71  feature_72  feature_73  feature_74  \\\n",
       "0           0           0           0           2           0           0   \n",
       "1           0           0           0           0           1           0   \n",
       "2           0           1           0           0           0           0   \n",
       "3           2           2           0           4           3           0   \n",
       "4           0           0           0           0           0           0   \n",
       "\n",
       "    target  \n",
       "0  Class_6  \n",
       "1  Class_6  \n",
       "2  Class_2  \n",
       "3  Class_8  \n",
       "4  Class_2  \n",
       "\n",
       "[5 rows x 77 columns]"
      ]
     },
     "execution_count": 17,
     "metadata": {},
     "output_type": "execute_result"
    }
   ],
   "source": [
    "df_train = pd.read_csv(path/\"train.csv\", low_memory=False)\n",
    "df_train.head()"
   ]
  },
  {
   "cell_type": "code",
   "execution_count": 18,
   "metadata": {
    "colab": {
     "base_uri": "https://localhost:8080/"
    },
    "executionInfo": {
     "elapsed": 27,
     "status": "ok",
     "timestamp": 1624772516698,
     "user": {
      "displayName": "Nissan Dookeran",
      "photoUrl": "https://lh3.googleusercontent.com/a-/AOh14GjX7TWnLkg-K8TmlLAPixO8NhfoICak-b5lZGGqXeU=s64",
      "userId": "10969188591745969823"
     },
     "user_tz": -600
    },
    "id": "YVAIIv_K1cWY",
    "outputId": "14ec2422-f6ec-4d88-a152-32d098bbaaf0"
   },
   "outputs": [
    {
     "data": {
      "text/plain": [
       "(200000, 77)"
      ]
     },
     "execution_count": 18,
     "metadata": {},
     "output_type": "execute_result"
    }
   ],
   "source": [
    "df_train.shape"
   ]
  },
  {
   "cell_type": "code",
   "execution_count": 19,
   "metadata": {
    "colab": {
     "base_uri": "https://localhost:8080/",
     "height": 317
    },
    "executionInfo": {
     "elapsed": 600,
     "status": "ok",
     "timestamp": 1624772517295,
     "user": {
      "displayName": "Nissan Dookeran",
      "photoUrl": "https://lh3.googleusercontent.com/a-/AOh14GjX7TWnLkg-K8TmlLAPixO8NhfoICak-b5lZGGqXeU=s64",
      "userId": "10969188591745969823"
     },
     "user_tz": -600
    },
    "id": "FrLpsfwFgcFn",
    "outputId": "d0bf5555-94f8-4c6e-b863-c3eaf5b08f07"
   },
   "outputs": [
    {
     "data": {
      "text/html": [
       "<div>\n",
       "<style scoped>\n",
       "    .dataframe tbody tr th:only-of-type {\n",
       "        vertical-align: middle;\n",
       "    }\n",
       "\n",
       "    .dataframe tbody tr th {\n",
       "        vertical-align: top;\n",
       "    }\n",
       "\n",
       "    .dataframe thead th {\n",
       "        text-align: right;\n",
       "    }\n",
       "</style>\n",
       "<table border=\"1\" class=\"dataframe\">\n",
       "  <thead>\n",
       "    <tr style=\"text-align: right;\">\n",
       "      <th></th>\n",
       "      <th>id</th>\n",
       "      <th>feature_0</th>\n",
       "      <th>feature_1</th>\n",
       "      <th>feature_2</th>\n",
       "      <th>feature_3</th>\n",
       "      <th>feature_4</th>\n",
       "      <th>feature_5</th>\n",
       "      <th>feature_6</th>\n",
       "      <th>feature_7</th>\n",
       "      <th>feature_8</th>\n",
       "      <th>...</th>\n",
       "      <th>feature_65</th>\n",
       "      <th>feature_66</th>\n",
       "      <th>feature_67</th>\n",
       "      <th>feature_68</th>\n",
       "      <th>feature_69</th>\n",
       "      <th>feature_70</th>\n",
       "      <th>feature_71</th>\n",
       "      <th>feature_72</th>\n",
       "      <th>feature_73</th>\n",
       "      <th>feature_74</th>\n",
       "    </tr>\n",
       "  </thead>\n",
       "  <tbody>\n",
       "    <tr>\n",
       "      <th>count</th>\n",
       "      <td>200000.000000</td>\n",
       "      <td>200000.000000</td>\n",
       "      <td>200000.000000</td>\n",
       "      <td>200000.000000</td>\n",
       "      <td>200000.000000</td>\n",
       "      <td>200000.000000</td>\n",
       "      <td>200000.000000</td>\n",
       "      <td>200000.000000</td>\n",
       "      <td>200000.000000</td>\n",
       "      <td>200000.00000</td>\n",
       "      <td>...</td>\n",
       "      <td>200000.000000</td>\n",
       "      <td>200000.000000</td>\n",
       "      <td>200000.000000</td>\n",
       "      <td>200000.000000</td>\n",
       "      <td>200000.000000</td>\n",
       "      <td>200000.000000</td>\n",
       "      <td>200000.000000</td>\n",
       "      <td>200000.000000</td>\n",
       "      <td>200000.00000</td>\n",
       "      <td>200000.000000</td>\n",
       "    </tr>\n",
       "    <tr>\n",
       "      <th>mean</th>\n",
       "      <td>99999.500000</td>\n",
       "      <td>0.972710</td>\n",
       "      <td>1.168365</td>\n",
       "      <td>2.219325</td>\n",
       "      <td>2.296735</td>\n",
       "      <td>0.793530</td>\n",
       "      <td>1.431105</td>\n",
       "      <td>1.010695</td>\n",
       "      <td>0.673090</td>\n",
       "      <td>1.94398</td>\n",
       "      <td>...</td>\n",
       "      <td>1.798040</td>\n",
       "      <td>0.508695</td>\n",
       "      <td>1.827300</td>\n",
       "      <td>0.910370</td>\n",
       "      <td>1.603585</td>\n",
       "      <td>1.219210</td>\n",
       "      <td>0.806895</td>\n",
       "      <td>1.282925</td>\n",
       "      <td>2.94021</td>\n",
       "      <td>0.632005</td>\n",
       "    </tr>\n",
       "    <tr>\n",
       "      <th>std</th>\n",
       "      <td>57735.171256</td>\n",
       "      <td>3.941836</td>\n",
       "      <td>3.993407</td>\n",
       "      <td>6.476570</td>\n",
       "      <td>7.551858</td>\n",
       "      <td>2.935785</td>\n",
       "      <td>5.162746</td>\n",
       "      <td>3.949231</td>\n",
       "      <td>2.234949</td>\n",
       "      <td>3.93133</td>\n",
       "      <td>...</td>\n",
       "      <td>5.053014</td>\n",
       "      <td>1.867330</td>\n",
       "      <td>7.188924</td>\n",
       "      <td>3.835182</td>\n",
       "      <td>4.877679</td>\n",
       "      <td>4.826003</td>\n",
       "      <td>2.458741</td>\n",
       "      <td>4.261420</td>\n",
       "      <td>10.78465</td>\n",
       "      <td>3.925310</td>\n",
       "    </tr>\n",
       "    <tr>\n",
       "      <th>min</th>\n",
       "      <td>0.000000</td>\n",
       "      <td>0.000000</td>\n",
       "      <td>0.000000</td>\n",
       "      <td>0.000000</td>\n",
       "      <td>0.000000</td>\n",
       "      <td>0.000000</td>\n",
       "      <td>0.000000</td>\n",
       "      <td>0.000000</td>\n",
       "      <td>0.000000</td>\n",
       "      <td>0.00000</td>\n",
       "      <td>...</td>\n",
       "      <td>0.000000</td>\n",
       "      <td>0.000000</td>\n",
       "      <td>0.000000</td>\n",
       "      <td>0.000000</td>\n",
       "      <td>0.000000</td>\n",
       "      <td>0.000000</td>\n",
       "      <td>0.000000</td>\n",
       "      <td>0.000000</td>\n",
       "      <td>0.00000</td>\n",
       "      <td>0.000000</td>\n",
       "    </tr>\n",
       "    <tr>\n",
       "      <th>25%</th>\n",
       "      <td>49999.750000</td>\n",
       "      <td>0.000000</td>\n",
       "      <td>0.000000</td>\n",
       "      <td>0.000000</td>\n",
       "      <td>0.000000</td>\n",
       "      <td>0.000000</td>\n",
       "      <td>0.000000</td>\n",
       "      <td>0.000000</td>\n",
       "      <td>0.000000</td>\n",
       "      <td>0.00000</td>\n",
       "      <td>...</td>\n",
       "      <td>0.000000</td>\n",
       "      <td>0.000000</td>\n",
       "      <td>0.000000</td>\n",
       "      <td>0.000000</td>\n",
       "      <td>0.000000</td>\n",
       "      <td>0.000000</td>\n",
       "      <td>0.000000</td>\n",
       "      <td>0.000000</td>\n",
       "      <td>0.00000</td>\n",
       "      <td>0.000000</td>\n",
       "    </tr>\n",
       "    <tr>\n",
       "      <th>50%</th>\n",
       "      <td>99999.500000</td>\n",
       "      <td>0.000000</td>\n",
       "      <td>0.000000</td>\n",
       "      <td>0.000000</td>\n",
       "      <td>0.000000</td>\n",
       "      <td>0.000000</td>\n",
       "      <td>0.000000</td>\n",
       "      <td>0.000000</td>\n",
       "      <td>0.000000</td>\n",
       "      <td>0.00000</td>\n",
       "      <td>...</td>\n",
       "      <td>0.000000</td>\n",
       "      <td>0.000000</td>\n",
       "      <td>0.000000</td>\n",
       "      <td>0.000000</td>\n",
       "      <td>0.000000</td>\n",
       "      <td>0.000000</td>\n",
       "      <td>0.000000</td>\n",
       "      <td>0.000000</td>\n",
       "      <td>0.00000</td>\n",
       "      <td>0.000000</td>\n",
       "    </tr>\n",
       "    <tr>\n",
       "      <th>75%</th>\n",
       "      <td>149999.250000</td>\n",
       "      <td>1.000000</td>\n",
       "      <td>1.000000</td>\n",
       "      <td>1.000000</td>\n",
       "      <td>1.000000</td>\n",
       "      <td>0.000000</td>\n",
       "      <td>1.000000</td>\n",
       "      <td>0.000000</td>\n",
       "      <td>0.000000</td>\n",
       "      <td>2.00000</td>\n",
       "      <td>...</td>\n",
       "      <td>1.000000</td>\n",
       "      <td>0.000000</td>\n",
       "      <td>1.000000</td>\n",
       "      <td>1.000000</td>\n",
       "      <td>2.000000</td>\n",
       "      <td>1.000000</td>\n",
       "      <td>1.000000</td>\n",
       "      <td>1.000000</td>\n",
       "      <td>1.00000</td>\n",
       "      <td>0.000000</td>\n",
       "    </tr>\n",
       "    <tr>\n",
       "      <th>max</th>\n",
       "      <td>199999.000000</td>\n",
       "      <td>61.000000</td>\n",
       "      <td>51.000000</td>\n",
       "      <td>64.000000</td>\n",
       "      <td>70.000000</td>\n",
       "      <td>38.000000</td>\n",
       "      <td>76.000000</td>\n",
       "      <td>43.000000</td>\n",
       "      <td>30.000000</td>\n",
       "      <td>38.00000</td>\n",
       "      <td>...</td>\n",
       "      <td>54.000000</td>\n",
       "      <td>24.000000</td>\n",
       "      <td>79.000000</td>\n",
       "      <td>55.000000</td>\n",
       "      <td>65.000000</td>\n",
       "      <td>67.000000</td>\n",
       "      <td>30.000000</td>\n",
       "      <td>61.000000</td>\n",
       "      <td>130.00000</td>\n",
       "      <td>52.000000</td>\n",
       "    </tr>\n",
       "  </tbody>\n",
       "</table>\n",
       "<p>8 rows × 76 columns</p>\n",
       "</div>"
      ],
      "text/plain": [
       "                  id      feature_0      feature_1      feature_2  \\\n",
       "count  200000.000000  200000.000000  200000.000000  200000.000000   \n",
       "mean    99999.500000       0.972710       1.168365       2.219325   \n",
       "std     57735.171256       3.941836       3.993407       6.476570   \n",
       "min         0.000000       0.000000       0.000000       0.000000   \n",
       "25%     49999.750000       0.000000       0.000000       0.000000   \n",
       "50%     99999.500000       0.000000       0.000000       0.000000   \n",
       "75%    149999.250000       1.000000       1.000000       1.000000   \n",
       "max    199999.000000      61.000000      51.000000      64.000000   \n",
       "\n",
       "           feature_3      feature_4      feature_5      feature_6  \\\n",
       "count  200000.000000  200000.000000  200000.000000  200000.000000   \n",
       "mean        2.296735       0.793530       1.431105       1.010695   \n",
       "std         7.551858       2.935785       5.162746       3.949231   \n",
       "min         0.000000       0.000000       0.000000       0.000000   \n",
       "25%         0.000000       0.000000       0.000000       0.000000   \n",
       "50%         0.000000       0.000000       0.000000       0.000000   \n",
       "75%         1.000000       0.000000       1.000000       0.000000   \n",
       "max        70.000000      38.000000      76.000000      43.000000   \n",
       "\n",
       "           feature_7     feature_8  ...     feature_65     feature_66  \\\n",
       "count  200000.000000  200000.00000  ...  200000.000000  200000.000000   \n",
       "mean        0.673090       1.94398  ...       1.798040       0.508695   \n",
       "std         2.234949       3.93133  ...       5.053014       1.867330   \n",
       "min         0.000000       0.00000  ...       0.000000       0.000000   \n",
       "25%         0.000000       0.00000  ...       0.000000       0.000000   \n",
       "50%         0.000000       0.00000  ...       0.000000       0.000000   \n",
       "75%         0.000000       2.00000  ...       1.000000       0.000000   \n",
       "max        30.000000      38.00000  ...      54.000000      24.000000   \n",
       "\n",
       "          feature_67     feature_68     feature_69     feature_70  \\\n",
       "count  200000.000000  200000.000000  200000.000000  200000.000000   \n",
       "mean        1.827300       0.910370       1.603585       1.219210   \n",
       "std         7.188924       3.835182       4.877679       4.826003   \n",
       "min         0.000000       0.000000       0.000000       0.000000   \n",
       "25%         0.000000       0.000000       0.000000       0.000000   \n",
       "50%         0.000000       0.000000       0.000000       0.000000   \n",
       "75%         1.000000       1.000000       2.000000       1.000000   \n",
       "max        79.000000      55.000000      65.000000      67.000000   \n",
       "\n",
       "          feature_71     feature_72    feature_73     feature_74  \n",
       "count  200000.000000  200000.000000  200000.00000  200000.000000  \n",
       "mean        0.806895       1.282925       2.94021       0.632005  \n",
       "std         2.458741       4.261420      10.78465       3.925310  \n",
       "min         0.000000       0.000000       0.00000       0.000000  \n",
       "25%         0.000000       0.000000       0.00000       0.000000  \n",
       "50%         0.000000       0.000000       0.00000       0.000000  \n",
       "75%         1.000000       1.000000       1.00000       0.000000  \n",
       "max        30.000000      61.000000     130.00000      52.000000  \n",
       "\n",
       "[8 rows x 76 columns]"
      ]
     },
     "execution_count": 19,
     "metadata": {},
     "output_type": "execute_result"
    }
   ],
   "source": [
    "df_train.describe()"
   ]
  },
  {
   "cell_type": "code",
   "execution_count": 20,
   "metadata": {
    "colab": {
     "base_uri": "https://localhost:8080/"
    },
    "executionInfo": {
     "elapsed": 361,
     "status": "ok",
     "timestamp": 1624772517634,
     "user": {
      "displayName": "Nissan Dookeran",
      "photoUrl": "https://lh3.googleusercontent.com/a-/AOh14GjX7TWnLkg-K8TmlLAPixO8NhfoICak-b5lZGGqXeU=s64",
      "userId": "10969188591745969823"
     },
     "user_tz": -600
    },
    "id": "TBY-n3woz-bl",
    "outputId": "745efc44-7f4a-47f3-dab3-d22cbf550ce5"
   },
   "outputs": [
    {
     "data": {
      "text/plain": [
       "False"
      ]
     },
     "execution_count": 20,
     "metadata": {},
     "output_type": "execute_result"
    }
   ],
   "source": [
    "True in df_train.isna()\n"
   ]
  },
  {
   "cell_type": "code",
   "execution_count": 21,
   "metadata": {
    "colab": {
     "base_uri": "https://localhost:8080/",
     "height": 224
    },
    "executionInfo": {
     "elapsed": 1018,
     "status": "ok",
     "timestamp": 1624772518651,
     "user": {
      "displayName": "Nissan Dookeran",
      "photoUrl": "https://lh3.googleusercontent.com/a-/AOh14GjX7TWnLkg-K8TmlLAPixO8NhfoICak-b5lZGGqXeU=s64",
      "userId": "10969188591745969823"
     },
     "user_tz": -600
    },
    "id": "rc-uoNSrGT37",
    "outputId": "afb44fd1-3270-4dec-f3b8-63c4fdd9251a"
   },
   "outputs": [
    {
     "data": {
      "text/html": [
       "<div>\n",
       "<style scoped>\n",
       "    .dataframe tbody tr th:only-of-type {\n",
       "        vertical-align: middle;\n",
       "    }\n",
       "\n",
       "    .dataframe tbody tr th {\n",
       "        vertical-align: top;\n",
       "    }\n",
       "\n",
       "    .dataframe thead th {\n",
       "        text-align: right;\n",
       "    }\n",
       "</style>\n",
       "<table border=\"1\" class=\"dataframe\">\n",
       "  <thead>\n",
       "    <tr style=\"text-align: right;\">\n",
       "      <th></th>\n",
       "      <th>id</th>\n",
       "      <th>feature_0</th>\n",
       "      <th>feature_1</th>\n",
       "      <th>feature_2</th>\n",
       "      <th>feature_3</th>\n",
       "      <th>feature_4</th>\n",
       "      <th>feature_5</th>\n",
       "      <th>feature_6</th>\n",
       "      <th>feature_7</th>\n",
       "      <th>feature_8</th>\n",
       "      <th>...</th>\n",
       "      <th>feature_65</th>\n",
       "      <th>feature_66</th>\n",
       "      <th>feature_67</th>\n",
       "      <th>feature_68</th>\n",
       "      <th>feature_69</th>\n",
       "      <th>feature_70</th>\n",
       "      <th>feature_71</th>\n",
       "      <th>feature_72</th>\n",
       "      <th>feature_73</th>\n",
       "      <th>feature_74</th>\n",
       "    </tr>\n",
       "  </thead>\n",
       "  <tbody>\n",
       "    <tr>\n",
       "      <th>0</th>\n",
       "      <td>200000</td>\n",
       "      <td>0</td>\n",
       "      <td>0</td>\n",
       "      <td>0</td>\n",
       "      <td>0</td>\n",
       "      <td>0</td>\n",
       "      <td>0</td>\n",
       "      <td>0</td>\n",
       "      <td>0</td>\n",
       "      <td>0</td>\n",
       "      <td>...</td>\n",
       "      <td>0</td>\n",
       "      <td>0</td>\n",
       "      <td>0</td>\n",
       "      <td>0</td>\n",
       "      <td>0</td>\n",
       "      <td>0</td>\n",
       "      <td>0</td>\n",
       "      <td>0</td>\n",
       "      <td>0</td>\n",
       "      <td>0</td>\n",
       "    </tr>\n",
       "    <tr>\n",
       "      <th>1</th>\n",
       "      <td>200001</td>\n",
       "      <td>1</td>\n",
       "      <td>2</td>\n",
       "      <td>0</td>\n",
       "      <td>0</td>\n",
       "      <td>0</td>\n",
       "      <td>0</td>\n",
       "      <td>0</td>\n",
       "      <td>0</td>\n",
       "      <td>0</td>\n",
       "      <td>...</td>\n",
       "      <td>3</td>\n",
       "      <td>1</td>\n",
       "      <td>3</td>\n",
       "      <td>0</td>\n",
       "      <td>0</td>\n",
       "      <td>0</td>\n",
       "      <td>0</td>\n",
       "      <td>3</td>\n",
       "      <td>0</td>\n",
       "      <td>0</td>\n",
       "    </tr>\n",
       "    <tr>\n",
       "      <th>2</th>\n",
       "      <td>200002</td>\n",
       "      <td>0</td>\n",
       "      <td>1</td>\n",
       "      <td>7</td>\n",
       "      <td>1</td>\n",
       "      <td>0</td>\n",
       "      <td>0</td>\n",
       "      <td>0</td>\n",
       "      <td>0</td>\n",
       "      <td>6</td>\n",
       "      <td>...</td>\n",
       "      <td>3</td>\n",
       "      <td>0</td>\n",
       "      <td>0</td>\n",
       "      <td>0</td>\n",
       "      <td>0</td>\n",
       "      <td>3</td>\n",
       "      <td>0</td>\n",
       "      <td>2</td>\n",
       "      <td>0</td>\n",
       "      <td>0</td>\n",
       "    </tr>\n",
       "    <tr>\n",
       "      <th>3</th>\n",
       "      <td>200003</td>\n",
       "      <td>0</td>\n",
       "      <td>0</td>\n",
       "      <td>0</td>\n",
       "      <td>4</td>\n",
       "      <td>3</td>\n",
       "      <td>1</td>\n",
       "      <td>0</td>\n",
       "      <td>0</td>\n",
       "      <td>0</td>\n",
       "      <td>...</td>\n",
       "      <td>0</td>\n",
       "      <td>0</td>\n",
       "      <td>0</td>\n",
       "      <td>1</td>\n",
       "      <td>0</td>\n",
       "      <td>0</td>\n",
       "      <td>0</td>\n",
       "      <td>4</td>\n",
       "      <td>0</td>\n",
       "      <td>0</td>\n",
       "    </tr>\n",
       "    <tr>\n",
       "      <th>4</th>\n",
       "      <td>200004</td>\n",
       "      <td>0</td>\n",
       "      <td>0</td>\n",
       "      <td>5</td>\n",
       "      <td>0</td>\n",
       "      <td>0</td>\n",
       "      <td>0</td>\n",
       "      <td>0</td>\n",
       "      <td>0</td>\n",
       "      <td>0</td>\n",
       "      <td>...</td>\n",
       "      <td>0</td>\n",
       "      <td>0</td>\n",
       "      <td>0</td>\n",
       "      <td>0</td>\n",
       "      <td>0</td>\n",
       "      <td>0</td>\n",
       "      <td>0</td>\n",
       "      <td>0</td>\n",
       "      <td>1</td>\n",
       "      <td>0</td>\n",
       "    </tr>\n",
       "  </tbody>\n",
       "</table>\n",
       "<p>5 rows × 76 columns</p>\n",
       "</div>"
      ],
      "text/plain": [
       "       id  feature_0  feature_1  feature_2  feature_3  feature_4  feature_5  \\\n",
       "0  200000          0          0          0          0          0          0   \n",
       "1  200001          1          2          0          0          0          0   \n",
       "2  200002          0          1          7          1          0          0   \n",
       "3  200003          0          0          0          4          3          1   \n",
       "4  200004          0          0          5          0          0          0   \n",
       "\n",
       "   feature_6  feature_7  feature_8  ...  feature_65  feature_66  feature_67  \\\n",
       "0          0          0          0  ...           0           0           0   \n",
       "1          0          0          0  ...           3           1           3   \n",
       "2          0          0          6  ...           3           0           0   \n",
       "3          0          0          0  ...           0           0           0   \n",
       "4          0          0          0  ...           0           0           0   \n",
       "\n",
       "   feature_68  feature_69  feature_70  feature_71  feature_72  feature_73  \\\n",
       "0           0           0           0           0           0           0   \n",
       "1           0           0           0           0           3           0   \n",
       "2           0           0           3           0           2           0   \n",
       "3           1           0           0           0           4           0   \n",
       "4           0           0           0           0           0           1   \n",
       "\n",
       "   feature_74  \n",
       "0           0  \n",
       "1           0  \n",
       "2           0  \n",
       "3           0  \n",
       "4           0  \n",
       "\n",
       "[5 rows x 76 columns]"
      ]
     },
     "execution_count": 21,
     "metadata": {},
     "output_type": "execute_result"
    }
   ],
   "source": [
    "df_test = pd.read_csv(path/\"test.csv\", low_memory=False)\n",
    "df_test.head()"
   ]
  },
  {
   "cell_type": "code",
   "execution_count": 22,
   "metadata": {
    "colab": {
     "base_uri": "https://localhost:8080/"
    },
    "executionInfo": {
     "elapsed": 128,
     "status": "ok",
     "timestamp": 1624772518651,
     "user": {
      "displayName": "Nissan Dookeran",
      "photoUrl": "https://lh3.googleusercontent.com/a-/AOh14GjX7TWnLkg-K8TmlLAPixO8NhfoICak-b5lZGGqXeU=s64",
      "userId": "10969188591745969823"
     },
     "user_tz": -600
    },
    "id": "_gjNIb-S1l5R",
    "outputId": "7b38277f-1755-4abe-ef1a-a77ada199447"
   },
   "outputs": [
    {
     "data": {
      "text/plain": [
       "(100000, 76)"
      ]
     },
     "execution_count": 22,
     "metadata": {},
     "output_type": "execute_result"
    }
   ],
   "source": [
    "df_test.shape"
   ]
  },
  {
   "cell_type": "code",
   "execution_count": 23,
   "metadata": {
    "colab": {
     "base_uri": "https://localhost:8080/"
    },
    "executionInfo": {
     "elapsed": 109,
     "status": "ok",
     "timestamp": 1624772518652,
     "user": {
      "displayName": "Nissan Dookeran",
      "photoUrl": "https://lh3.googleusercontent.com/a-/AOh14GjX7TWnLkg-K8TmlLAPixO8NhfoICak-b5lZGGqXeU=s64",
      "userId": "10969188591745969823"
     },
     "user_tz": -600
    },
    "id": "TQ5Vmdx31iu0",
    "outputId": "56c8e333-25e1-4fe2-cfb9-5f340d2ad01f"
   },
   "outputs": [
    {
     "data": {
      "text/plain": [
       "False"
      ]
     },
     "execution_count": 23,
     "metadata": {},
     "output_type": "execute_result"
    }
   ],
   "source": [
    "True in df_test.isna()"
   ]
  },
  {
   "cell_type": "code",
   "execution_count": 24,
   "metadata": {
    "executionInfo": {
     "elapsed": 97,
     "status": "ok",
     "timestamp": 1624772518652,
     "user": {
      "displayName": "Nissan Dookeran",
      "photoUrl": "https://lh3.googleusercontent.com/a-/AOh14GjX7TWnLkg-K8TmlLAPixO8NhfoICak-b5lZGGqXeU=s64",
      "userId": "10969188591745969823"
     },
     "user_tz": -600
    },
    "id": "UGebuidxTOXk"
   },
   "outputs": [],
   "source": [
    "y_column = df_train.columns.difference(df_test.columns)"
   ]
  },
  {
   "cell_type": "code",
   "execution_count": 25,
   "metadata": {
    "colab": {
     "base_uri": "https://localhost:8080/"
    },
    "executionInfo": {
     "elapsed": 96,
     "status": "ok",
     "timestamp": 1624772518652,
     "user": {
      "displayName": "Nissan Dookeran",
      "photoUrl": "https://lh3.googleusercontent.com/a-/AOh14GjX7TWnLkg-K8TmlLAPixO8NhfoICak-b5lZGGqXeU=s64",
      "userId": "10969188591745969823"
     },
     "user_tz": -600
    },
    "id": "W-L9o1GuVTYj",
    "outputId": "86c11f4e-af48-44ff-e44c-cf21ae4396bd"
   },
   "outputs": [
    {
     "data": {
      "text/plain": [
       "Index(['target'], dtype='object')"
      ]
     },
     "execution_count": 25,
     "metadata": {},
     "output_type": "execute_result"
    }
   ],
   "source": [
    "y_column"
   ]
  },
  {
   "cell_type": "markdown",
   "metadata": {
    "id": "Gn_QCmpIGvD-"
   },
   "source": [
    "From this it looks like `target` is the value we want to predict. Let's take a look at this"
   ]
  },
  {
   "cell_type": "code",
   "execution_count": 26,
   "metadata": {
    "colab": {
     "base_uri": "https://localhost:8080/"
    },
    "executionInfo": {
     "elapsed": 85,
     "status": "ok",
     "timestamp": 1624772518653,
     "user": {
      "displayName": "Nissan Dookeran",
      "photoUrl": "https://lh3.googleusercontent.com/a-/AOh14GjX7TWnLkg-K8TmlLAPixO8NhfoICak-b5lZGGqXeU=s64",
      "userId": "10969188591745969823"
     },
     "user_tz": -600
    },
    "id": "4jA_JGN9FGmz",
    "outputId": "de03afe5-49d0-4f1d-cdaa-31f52687b446"
   },
   "outputs": [
    {
     "data": {
      "text/plain": [
       "pandas.core.series.Series"
      ]
     },
     "execution_count": 26,
     "metadata": {},
     "output_type": "execute_result"
    }
   ],
   "source": [
    "type(df_train.target)"
   ]
  },
  {
   "cell_type": "code",
   "execution_count": 27,
   "metadata": {
    "colab": {
     "base_uri": "https://localhost:8080/"
    },
    "executionInfo": {
     "elapsed": 73,
     "status": "ok",
     "timestamp": 1624772518653,
     "user": {
      "displayName": "Nissan Dookeran",
      "photoUrl": "https://lh3.googleusercontent.com/a-/AOh14GjX7TWnLkg-K8TmlLAPixO8NhfoICak-b5lZGGqXeU=s64",
      "userId": "10969188591745969823"
     },
     "user_tz": -600
    },
    "id": "kdl_hdNyEk5n",
    "outputId": "e6239d85-681e-42f3-ff59-fe26f4cb9be5"
   },
   "outputs": [
    {
     "data": {
      "text/plain": [
       "array(['Class_6', 'Class_2', 'Class_8', 'Class_3', 'Class_1', 'Class_5',\n",
       "       'Class_7', 'Class_9', 'Class_4'], dtype=object)"
      ]
     },
     "execution_count": 27,
     "metadata": {},
     "output_type": "execute_result"
    }
   ],
   "source": [
    "df_train.target.unique()"
   ]
  },
  {
   "cell_type": "code",
   "execution_count": 28,
   "metadata": {
    "colab": {
     "base_uri": "https://localhost:8080/"
    },
    "executionInfo": {
     "elapsed": 62,
     "status": "ok",
     "timestamp": 1624772518654,
     "user": {
      "displayName": "Nissan Dookeran",
      "photoUrl": "https://lh3.googleusercontent.com/a-/AOh14GjX7TWnLkg-K8TmlLAPixO8NhfoICak-b5lZGGqXeU=s64",
      "userId": "10969188591745969823"
     },
     "user_tz": -600
    },
    "id": "VyFyvYKzQzZw",
    "outputId": "668d016f-8657-46c5-bc6d-10d79be21b0b"
   },
   "outputs": [
    {
     "data": {
      "text/plain": [
       "str"
      ]
     },
     "execution_count": 28,
     "metadata": {},
     "output_type": "execute_result"
    }
   ],
   "source": [
    "type(df_train.target.unique()[0])"
   ]
  },
  {
   "cell_type": "code",
   "execution_count": 29,
   "metadata": {
    "colab": {
     "base_uri": "https://localhost:8080/"
    },
    "executionInfo": {
     "elapsed": 49,
     "status": "ok",
     "timestamp": 1624772518654,
     "user": {
      "displayName": "Nissan Dookeran",
      "photoUrl": "https://lh3.googleusercontent.com/a-/AOh14GjX7TWnLkg-K8TmlLAPixO8NhfoICak-b5lZGGqXeU=s64",
      "userId": "10969188591745969823"
     },
     "user_tz": -600
    },
    "id": "vsTTDlfBfxgc",
    "outputId": "ade281f6-a5ec-488e-9bd3-27cc6ae5e202"
   },
   "outputs": [
    {
     "data": {
      "text/plain": [
       "0"
      ]
     },
     "execution_count": 29,
     "metadata": {},
     "output_type": "execute_result"
    }
   ],
   "source": [
    "df_train.target.isna().sum()"
   ]
  },
  {
   "cell_type": "markdown",
   "metadata": {
    "id": "GbCV19-9AIOQ"
   },
   "source": [
    "#### Set the y column type"
   ]
  },
  {
   "cell_type": "markdown",
   "metadata": {
    "id": "coIRz59RfXK2"
   },
   "source": [
    "Make this a category for the purpose of generating predictions as a classification"
   ]
  },
  {
   "cell_type": "code",
   "execution_count": 30,
   "metadata": {
    "executionInfo": {
     "elapsed": 37,
     "status": "ok",
     "timestamp": 1624772518654,
     "user": {
      "displayName": "Nissan Dookeran",
      "photoUrl": "https://lh3.googleusercontent.com/a-/AOh14GjX7TWnLkg-K8TmlLAPixO8NhfoICak-b5lZGGqXeU=s64",
      "userId": "10969188591745969823"
     },
     "user_tz": -600
    },
    "id": "B5Z7aNnzfD5N"
   },
   "outputs": [],
   "source": [
    "df_train.target = df_train.target.astype(dtype='category')"
   ]
  },
  {
   "cell_type": "code",
   "execution_count": 31,
   "metadata": {
    "colab": {
     "base_uri": "https://localhost:8080/"
    },
    "executionInfo": {
     "elapsed": 37,
     "status": "ok",
     "timestamp": 1624772518655,
     "user": {
      "displayName": "Nissan Dookeran",
      "photoUrl": "https://lh3.googleusercontent.com/a-/AOh14GjX7TWnLkg-K8TmlLAPixO8NhfoICak-b5lZGGqXeU=s64",
      "userId": "10969188591745969823"
     },
     "user_tz": -600
    },
    "id": "c-MdZDG7Z3HK",
    "outputId": "2a37848b-b87d-4964-f2d7-1c6c9064f2db"
   },
   "outputs": [
    {
     "data": {
      "text/plain": [
       "['Class_6', 'Class_2', 'Class_8', 'Class_3', 'Class_1', 'Class_5', 'Class_7', 'Class_9', 'Class_4']\n",
       "Categories (9, object): ['Class_6', 'Class_2', 'Class_8', 'Class_3', ..., 'Class_5', 'Class_7', 'Class_9', 'Class_4']"
      ]
     },
     "execution_count": 31,
     "metadata": {},
     "output_type": "execute_result"
    }
   ],
   "source": [
    "target_categories = df_train['target'].unique()\n",
    "target_categories"
   ]
  },
  {
   "cell_type": "code",
   "execution_count": 32,
   "metadata": {
    "executionInfo": {
     "elapsed": 25,
     "status": "ok",
     "timestamp": 1624772518655,
     "user": {
      "displayName": "Nissan Dookeran",
      "photoUrl": "https://lh3.googleusercontent.com/a-/AOh14GjX7TWnLkg-K8TmlLAPixO8NhfoICak-b5lZGGqXeU=s64",
      "userId": "10969188591745969823"
     },
     "user_tz": -600
    },
    "id": "quMa2f1naMWE"
   },
   "outputs": [],
   "source": [
    "df_train['target'].cat.set_categories(target_categories, inplace=True)"
   ]
  },
  {
   "cell_type": "markdown",
   "metadata": {
    "id": "hil4vFIJySDO"
   },
   "source": [
    "Let's see how the training data outcomes are balanced"
   ]
  },
  {
   "cell_type": "code",
   "execution_count": 33,
   "metadata": {
    "colab": {
     "base_uri": "https://localhost:8080/"
    },
    "executionInfo": {
     "elapsed": 25,
     "status": "ok",
     "timestamp": 1624772518656,
     "user": {
      "displayName": "Nissan Dookeran",
      "photoUrl": "https://lh3.googleusercontent.com/a-/AOh14GjX7TWnLkg-K8TmlLAPixO8NhfoICak-b5lZGGqXeU=s64",
      "userId": "10969188591745969823"
     },
     "user_tz": -600
    },
    "id": "H34WyQxs3h0O",
    "outputId": "58c2756a-4c29-4ef8-9095-a20b9f9c1166"
   },
   "outputs": [
    {
     "data": {
      "text/plain": [
       "count      200000\n",
       "unique          9\n",
       "top       Class_6\n",
       "freq        51811\n",
       "Name: target, dtype: object"
      ]
     },
     "execution_count": 33,
     "metadata": {},
     "output_type": "execute_result"
    }
   ],
   "source": [
    "df_train.target.describe()"
   ]
  },
  {
   "cell_type": "code",
   "execution_count": 34,
   "metadata": {
    "executionInfo": {
     "elapsed": 13,
     "status": "ok",
     "timestamp": 1624772518656,
     "user": {
      "displayName": "Nissan Dookeran",
      "photoUrl": "https://lh3.googleusercontent.com/a-/AOh14GjX7TWnLkg-K8TmlLAPixO8NhfoICak-b5lZGGqXeU=s64",
      "userId": "10969188591745969823"
     },
     "user_tz": -600
    },
    "id": "E63CJL7tyYAy"
   },
   "outputs": [],
   "source": [
    "train_data_balance = pd.DataFrame(df_train[\"target\"]).groupby(\"target\")"
   ]
  },
  {
   "cell_type": "code",
   "execution_count": 35,
   "metadata": {
    "colab": {
     "base_uri": "https://localhost:8080/",
     "height": 359
    },
    "executionInfo": {
     "elapsed": 12,
     "status": "ok",
     "timestamp": 1624772518656,
     "user": {
      "displayName": "Nissan Dookeran",
      "photoUrl": "https://lh3.googleusercontent.com/a-/AOh14GjX7TWnLkg-K8TmlLAPixO8NhfoICak-b5lZGGqXeU=s64",
      "userId": "10969188591745969823"
     },
     "user_tz": -600
    },
    "id": "PRd1G4-fzy2O",
    "outputId": "fea5d929-a927-4ba0-8f99-3454d08782ed"
   },
   "outputs": [
    {
     "data": {
      "text/html": [
       "<div>\n",
       "<style scoped>\n",
       "    .dataframe tbody tr th:only-of-type {\n",
       "        vertical-align: middle;\n",
       "    }\n",
       "\n",
       "    .dataframe tbody tr th {\n",
       "        vertical-align: top;\n",
       "    }\n",
       "\n",
       "    .dataframe thead th {\n",
       "        text-align: right;\n",
       "    }\n",
       "</style>\n",
       "<table border=\"1\" class=\"dataframe\">\n",
       "  <thead>\n",
       "    <tr style=\"text-align: right;\">\n",
       "      <th></th>\n",
       "      <th>count</th>\n",
       "      <th>unique</th>\n",
       "      <th>top</th>\n",
       "      <th>freq</th>\n",
       "    </tr>\n",
       "    <tr>\n",
       "      <th>target</th>\n",
       "      <th></th>\n",
       "      <th></th>\n",
       "      <th></th>\n",
       "      <th></th>\n",
       "    </tr>\n",
       "  </thead>\n",
       "  <tbody>\n",
       "    <tr>\n",
       "      <th>Class_6</th>\n",
       "      <td>51811</td>\n",
       "      <td>1</td>\n",
       "      <td>Class_6</td>\n",
       "      <td>51811</td>\n",
       "    </tr>\n",
       "    <tr>\n",
       "      <th>Class_2</th>\n",
       "      <td>24431</td>\n",
       "      <td>1</td>\n",
       "      <td>Class_2</td>\n",
       "      <td>24431</td>\n",
       "    </tr>\n",
       "    <tr>\n",
       "      <th>Class_8</th>\n",
       "      <td>51763</td>\n",
       "      <td>1</td>\n",
       "      <td>Class_8</td>\n",
       "      <td>51763</td>\n",
       "    </tr>\n",
       "    <tr>\n",
       "      <th>Class_3</th>\n",
       "      <td>14798</td>\n",
       "      <td>1</td>\n",
       "      <td>Class_3</td>\n",
       "      <td>14798</td>\n",
       "    </tr>\n",
       "    <tr>\n",
       "      <th>Class_1</th>\n",
       "      <td>9118</td>\n",
       "      <td>1</td>\n",
       "      <td>Class_1</td>\n",
       "      <td>9118</td>\n",
       "    </tr>\n",
       "    <tr>\n",
       "      <th>Class_5</th>\n",
       "      <td>3064</td>\n",
       "      <td>1</td>\n",
       "      <td>Class_5</td>\n",
       "      <td>3064</td>\n",
       "    </tr>\n",
       "    <tr>\n",
       "      <th>Class_7</th>\n",
       "      <td>14769</td>\n",
       "      <td>1</td>\n",
       "      <td>Class_7</td>\n",
       "      <td>14769</td>\n",
       "    </tr>\n",
       "    <tr>\n",
       "      <th>Class_9</th>\n",
       "      <td>25542</td>\n",
       "      <td>1</td>\n",
       "      <td>Class_9</td>\n",
       "      <td>25542</td>\n",
       "    </tr>\n",
       "    <tr>\n",
       "      <th>Class_4</th>\n",
       "      <td>4704</td>\n",
       "      <td>1</td>\n",
       "      <td>Class_4</td>\n",
       "      <td>4704</td>\n",
       "    </tr>\n",
       "  </tbody>\n",
       "</table>\n",
       "</div>"
      ],
      "text/plain": [
       "         count unique      top   freq\n",
       "target                               \n",
       "Class_6  51811      1  Class_6  51811\n",
       "Class_2  24431      1  Class_2  24431\n",
       "Class_8  51763      1  Class_8  51763\n",
       "Class_3  14798      1  Class_3  14798\n",
       "Class_1   9118      1  Class_1   9118\n",
       "Class_5   3064      1  Class_5   3064\n",
       "Class_7  14769      1  Class_7  14769\n",
       "Class_9  25542      1  Class_9  25542\n",
       "Class_4   4704      1  Class_4   4704"
      ]
     },
     "execution_count": 35,
     "metadata": {},
     "output_type": "execute_result"
    }
   ],
   "source": [
    "train_data_balance[\"target\"].describe()"
   ]
  },
  {
   "cell_type": "markdown",
   "metadata": {
    "id": "13xLml7s4a16"
   },
   "source": [
    "It's not quite equally weighted, e.g. `Class_4` and `Class_5` are ten times less than `Class_6`"
   ]
  },
  {
   "cell_type": "markdown",
   "metadata": {
    "id": "r2YPH48oMyb2"
   },
   "source": [
    "## First things first \n",
    "- `id` looks unique so we can test this and if true, make it the index\n",
    "\n",
    "Additionally, we should make sure to apply any changes to data types to both train and test data so predictions don't fail later on\n"
   ]
  },
  {
   "cell_type": "code",
   "execution_count": 36,
   "metadata": {
    "colab": {
     "base_uri": "https://localhost:8080/"
    },
    "executionInfo": {
     "elapsed": 502,
     "status": "ok",
     "timestamp": 1624772519147,
     "user": {
      "displayName": "Nissan Dookeran",
      "photoUrl": "https://lh3.googleusercontent.com/a-/AOh14GjX7TWnLkg-K8TmlLAPixO8NhfoICak-b5lZGGqXeU=s64",
      "userId": "10969188591745969823"
     },
     "user_tz": -600
    },
    "id": "nV2VucdzbA3_",
    "outputId": "7cf87f5f-eeb3-4df9-bdc2-40df7dea0ffa"
   },
   "outputs": [
    {
     "data": {
      "text/plain": [
       "(0         1\n",
       " 111331    1\n",
       " 49869     1\n",
       " 56014     1\n",
       " 53967     1\n",
       "          ..\n",
       " 183667    1\n",
       " 193908    1\n",
       " 195957    1\n",
       " 189814    1\n",
       " 2047      1\n",
       " Name: id, Length: 200000, dtype: int64,\n",
       " 262144    1\n",
       " 269609    1\n",
       " 206158    1\n",
       " 212301    1\n",
       " 210252    1\n",
       "          ..\n",
       " 283295    1\n",
       " 285342    1\n",
       " 279197    1\n",
       " 281244    1\n",
       " 264191    1\n",
       " Name: id, Length: 100000, dtype: int64)"
      ]
     },
     "execution_count": 36,
     "metadata": {},
     "output_type": "execute_result"
    }
   ],
   "source": [
    "df_train.id.value_counts(), df_test.id.value_counts()"
   ]
  },
  {
   "cell_type": "code",
   "execution_count": 37,
   "metadata": {
    "executionInfo": {
     "elapsed": 99,
     "status": "ok",
     "timestamp": 1624772519148,
     "user": {
      "displayName": "Nissan Dookeran",
      "photoUrl": "https://lh3.googleusercontent.com/a-/AOh14GjX7TWnLkg-K8TmlLAPixO8NhfoICak-b5lZGGqXeU=s64",
      "userId": "10969188591745969823"
     },
     "user_tz": -600
    },
    "id": "73vK91dbZBgr"
   },
   "outputs": [],
   "source": [
    "df_train = df_train.set_index('id')\n",
    "df_test = df_test.set_index('id')"
   ]
  },
  {
   "cell_type": "markdown",
   "metadata": {
    "id": "VZb5a9PIc7K_"
   },
   "source": [
    "## Goal: Better model training, refining fastai parameters, using EDA insights gathered to date"
   ]
  },
  {
   "cell_type": "code",
   "execution_count": 38,
   "metadata": {
    "colab": {
     "base_uri": "https://localhost:8080/"
    },
    "executionInfo": {
     "elapsed": 99,
     "status": "ok",
     "timestamp": 1624772519149,
     "user": {
      "displayName": "Nissan Dookeran",
      "photoUrl": "https://lh3.googleusercontent.com/a-/AOh14GjX7TWnLkg-K8TmlLAPixO8NhfoICak-b5lZGGqXeU=s64",
      "userId": "10969188591745969823"
     },
     "user_tz": -600
    },
    "id": "PcAtj1xcKoqY",
    "outputId": "0d3ab816-83eb-4718-bb13-07e14d897702"
   },
   "outputs": [
    {
     "data": {
      "text/plain": [
       "['target']"
      ]
     },
     "execution_count": 38,
     "metadata": {},
     "output_type": "execute_result"
    }
   ],
   "source": [
    "y_names = [y_column[0]]\n",
    "y_names"
   ]
  },
  {
   "cell_type": "code",
   "execution_count": 39,
   "metadata": {
    "colab": {
     "base_uri": "https://localhost:8080/"
    },
    "executionInfo": {
     "elapsed": 86,
     "status": "ok",
     "timestamp": 1624772519149,
     "user": {
      "displayName": "Nissan Dookeran",
      "photoUrl": "https://lh3.googleusercontent.com/a-/AOh14GjX7TWnLkg-K8TmlLAPixO8NhfoICak-b5lZGGqXeU=s64",
      "userId": "10969188591745969823"
     },
     "user_tz": -600
    },
    "id": "x8Y8bfNKdBtA",
    "outputId": "e6860438-6bbd-4d92-eb09-2ec2fbf4ddcd"
   },
   "outputs": [
    {
     "data": {
      "text/plain": [
       "(72, 3)"
      ]
     },
     "execution_count": 39,
     "metadata": {},
     "output_type": "execute_result"
    }
   ],
   "source": [
    "cont_names, cat_names = cont_cat_split(df_train, dep_var=y_names)\n",
    "len(cont_names), len(cat_names)"
   ]
  },
  {
   "cell_type": "markdown",
   "metadata": {
    "id": "X_gu9o-bBE3z"
   },
   "source": [
    "## EDA on the categorical and continuous feature splits \n",
    "> Functions to improve fastai's `cont_cat_split` choices"
   ]
  },
  {
   "cell_type": "markdown",
   "metadata": {
    "id": "Vko79tiKBbDj"
   },
   "source": [
    "The goal here is to validate the splot, rearrange as needed, and explicitly set the dtype and categories for categorical columns. I am going to use what I wrote for [another post](https://redditech.github.io/team-fast-tabulous/kaggle/fastai/2021/06/27/Improving-Fastai-split-choices.html#New-Work---A-function-to-improve-fastai's-cont_cat_split-choices) with some functions that help speed up evaluating the splits and reassigning them better than the fastai defaults"
   ]
  },
  {
   "cell_type": "markdown",
   "metadata": {},
   "source": [
    "First I'll create a `triage` list for any fields that can't be programmatically optimized. These are the ones we have to do manual steps for until I find a way to do better"
   ]
  },
  {
   "cell_type": "code",
   "execution_count": 40,
   "metadata": {},
   "outputs": [],
   "source": [
    "triage = L()"
   ]
  },
  {
   "cell_type": "markdown",
   "metadata": {},
   "source": [
    "Let's take a quick look at the descriptions of the categorical and continuous splits automatically done"
   ]
  },
  {
   "cell_type": "code",
   "execution_count": 41,
   "metadata": {},
   "outputs": [
    {
     "data": {
      "text/html": [
       "<div>\n",
       "<style scoped>\n",
       "    .dataframe tbody tr th:only-of-type {\n",
       "        vertical-align: middle;\n",
       "    }\n",
       "\n",
       "    .dataframe tbody tr th {\n",
       "        vertical-align: top;\n",
       "    }\n",
       "\n",
       "    .dataframe thead th {\n",
       "        text-align: right;\n",
       "    }\n",
       "</style>\n",
       "<table border=\"1\" class=\"dataframe\">\n",
       "  <thead>\n",
       "    <tr style=\"text-align: right;\">\n",
       "      <th></th>\n",
       "      <th>feature_0</th>\n",
       "      <th>feature_1</th>\n",
       "      <th>feature_2</th>\n",
       "      <th>feature_3</th>\n",
       "      <th>feature_4</th>\n",
       "      <th>feature_5</th>\n",
       "      <th>feature_6</th>\n",
       "      <th>feature_7</th>\n",
       "      <th>feature_8</th>\n",
       "      <th>feature_9</th>\n",
       "      <th>...</th>\n",
       "      <th>feature_65</th>\n",
       "      <th>feature_66</th>\n",
       "      <th>feature_67</th>\n",
       "      <th>feature_68</th>\n",
       "      <th>feature_69</th>\n",
       "      <th>feature_70</th>\n",
       "      <th>feature_71</th>\n",
       "      <th>feature_72</th>\n",
       "      <th>feature_73</th>\n",
       "      <th>feature_74</th>\n",
       "    </tr>\n",
       "  </thead>\n",
       "  <tbody>\n",
       "    <tr>\n",
       "      <th>count</th>\n",
       "      <td>200000</td>\n",
       "      <td>200000</td>\n",
       "      <td>200000</td>\n",
       "      <td>200000</td>\n",
       "      <td>200000</td>\n",
       "      <td>200000</td>\n",
       "      <td>200000</td>\n",
       "      <td>200000</td>\n",
       "      <td>200000</td>\n",
       "      <td>200000</td>\n",
       "      <td>...</td>\n",
       "      <td>200000</td>\n",
       "      <td>200000</td>\n",
       "      <td>200000</td>\n",
       "      <td>200000</td>\n",
       "      <td>200000</td>\n",
       "      <td>200000</td>\n",
       "      <td>200000</td>\n",
       "      <td>200000</td>\n",
       "      <td>200000</td>\n",
       "      <td>200000</td>\n",
       "    </tr>\n",
       "    <tr>\n",
       "      <th>unique</th>\n",
       "      <td>42</td>\n",
       "      <td>37</td>\n",
       "      <td>48</td>\n",
       "      <td>59</td>\n",
       "      <td>30</td>\n",
       "      <td>55</td>\n",
       "      <td>40</td>\n",
       "      <td>26</td>\n",
       "      <td>28</td>\n",
       "      <td>51</td>\n",
       "      <td>...</td>\n",
       "      <td>41</td>\n",
       "      <td>23</td>\n",
       "      <td>57</td>\n",
       "      <td>42</td>\n",
       "      <td>52</td>\n",
       "      <td>49</td>\n",
       "      <td>31</td>\n",
       "      <td>37</td>\n",
       "      <td>91</td>\n",
       "      <td>50</td>\n",
       "    </tr>\n",
       "    <tr>\n",
       "      <th>top</th>\n",
       "      <td>0</td>\n",
       "      <td>0</td>\n",
       "      <td>0</td>\n",
       "      <td>0</td>\n",
       "      <td>0</td>\n",
       "      <td>0</td>\n",
       "      <td>0</td>\n",
       "      <td>0</td>\n",
       "      <td>0</td>\n",
       "      <td>0</td>\n",
       "      <td>...</td>\n",
       "      <td>0</td>\n",
       "      <td>0</td>\n",
       "      <td>0</td>\n",
       "      <td>0</td>\n",
       "      <td>0</td>\n",
       "      <td>0</td>\n",
       "      <td>0</td>\n",
       "      <td>0</td>\n",
       "      <td>0</td>\n",
       "      <td>0</td>\n",
       "    </tr>\n",
       "    <tr>\n",
       "      <th>freq</th>\n",
       "      <td>146389</td>\n",
       "      <td>140375</td>\n",
       "      <td>122501</td>\n",
       "      <td>120767</td>\n",
       "      <td>154093</td>\n",
       "      <td>119020</td>\n",
       "      <td>150969</td>\n",
       "      <td>150350</td>\n",
       "      <td>117000</td>\n",
       "      <td>124466</td>\n",
       "      <td>...</td>\n",
       "      <td>124517</td>\n",
       "      <td>165048</td>\n",
       "      <td>141642</td>\n",
       "      <td>145532</td>\n",
       "      <td>113213</td>\n",
       "      <td>132247</td>\n",
       "      <td>139966</td>\n",
       "      <td>123153</td>\n",
       "      <td>142555</td>\n",
       "      <td>169451</td>\n",
       "    </tr>\n",
       "  </tbody>\n",
       "</table>\n",
       "<p>4 rows × 72 columns</p>\n",
       "</div>"
      ],
      "text/plain": [
       "        feature_0  feature_1  feature_2  feature_3  feature_4  feature_5  \\\n",
       "count      200000     200000     200000     200000     200000     200000   \n",
       "unique         42         37         48         59         30         55   \n",
       "top             0          0          0          0          0          0   \n",
       "freq       146389     140375     122501     120767     154093     119020   \n",
       "\n",
       "        feature_6  feature_7  feature_8  feature_9  ...  feature_65  \\\n",
       "count      200000     200000     200000     200000  ...      200000   \n",
       "unique         40         26         28         51  ...          41   \n",
       "top             0          0          0          0  ...           0   \n",
       "freq       150969     150350     117000     124466  ...      124517   \n",
       "\n",
       "        feature_66  feature_67  feature_68  feature_69  feature_70  \\\n",
       "count       200000      200000      200000      200000      200000   \n",
       "unique          23          57          42          52          49   \n",
       "top              0           0           0           0           0   \n",
       "freq        165048      141642      145532      113213      132247   \n",
       "\n",
       "        feature_71  feature_72  feature_73  feature_74  \n",
       "count       200000      200000      200000      200000  \n",
       "unique          31          37          91          50  \n",
       "top              0           0           0           0  \n",
       "freq        139966      123153      142555      169451  \n",
       "\n",
       "[4 rows x 72 columns]"
      ]
     },
     "execution_count": 41,
     "metadata": {},
     "output_type": "execute_result"
    }
   ],
   "source": [
    "df_train[cont_names].astype('object').describe()"
   ]
  },
  {
   "cell_type": "markdown",
   "metadata": {},
   "source": [
    "The first thing I notice, is that for a number of these fields, there is quite a low number of `unique` values. Luckily, I don't see any missing or NA values as all the `count` totals are equal to the total number of rows of data. These are a lot of fields to go through and manually recategorize and then get their categories, but I am hoping I can do this programmatically."
   ]
  },
  {
   "cell_type": "markdown",
   "metadata": {},
   "source": [
    "Let's have a look at the existing categoricals to make sure there's nothing suspeicious about these here either"
   ]
  },
  {
   "cell_type": "code",
   "execution_count": 42,
   "metadata": {},
   "outputs": [
    {
     "data": {
      "text/html": [
       "<div>\n",
       "<style scoped>\n",
       "    .dataframe tbody tr th:only-of-type {\n",
       "        vertical-align: middle;\n",
       "    }\n",
       "\n",
       "    .dataframe tbody tr th {\n",
       "        vertical-align: top;\n",
       "    }\n",
       "\n",
       "    .dataframe thead th {\n",
       "        text-align: right;\n",
       "    }\n",
       "</style>\n",
       "<table border=\"1\" class=\"dataframe\">\n",
       "  <thead>\n",
       "    <tr style=\"text-align: right;\">\n",
       "      <th></th>\n",
       "      <th>feature_17</th>\n",
       "      <th>feature_26</th>\n",
       "      <th>feature_30</th>\n",
       "    </tr>\n",
       "  </thead>\n",
       "  <tbody>\n",
       "    <tr>\n",
       "      <th>count</th>\n",
       "      <td>200000</td>\n",
       "      <td>200000</td>\n",
       "      <td>200000</td>\n",
       "    </tr>\n",
       "    <tr>\n",
       "      <th>unique</th>\n",
       "      <td>15</td>\n",
       "      <td>20</td>\n",
       "      <td>18</td>\n",
       "    </tr>\n",
       "    <tr>\n",
       "      <th>top</th>\n",
       "      <td>0</td>\n",
       "      <td>0</td>\n",
       "      <td>0</td>\n",
       "    </tr>\n",
       "    <tr>\n",
       "      <th>freq</th>\n",
       "      <td>169538</td>\n",
       "      <td>127772</td>\n",
       "      <td>134843</td>\n",
       "    </tr>\n",
       "  </tbody>\n",
       "</table>\n",
       "</div>"
      ],
      "text/plain": [
       "        feature_17  feature_26  feature_30\n",
       "count       200000      200000      200000\n",
       "unique          15          20          18\n",
       "top              0           0           0\n",
       "freq        169538      127772      134843"
      ]
     },
     "execution_count": 42,
     "metadata": {},
     "output_type": "execute_result"
    }
   ],
   "source": [
    "df_train[cat_names].astype('object').describe()"
   ]
  },
  {
   "cell_type": "markdown",
   "metadata": {},
   "source": [
    "Here I define two functions, which will help \n",
    "- to reset the `cont_names` and `cat_names` arrays with better fits of the actual data fields for those that are categorical, but were put into the continuous array. \n",
    "- For all cateogorical fields, it will also setup the categories for these fields and change their dtype \n",
    "- For any fields that have null values, it will remove them from their respective field, and place them in the `triage` list"
   ]
  },
  {
   "cell_type": "code",
   "execution_count": 43,
   "metadata": {},
   "outputs": [],
   "source": [
    "def reassign_to_categorical(field, df, continuous, categorical, triage):\n",
    "  if df[field].isna().sum()==0:\n",
    "    field_categories = df[field].unique()\n",
    "    df[field] = df[field].astype('category')\n",
    "    df[field].cat.set_categories(field_categories, inplace=True)\n",
    "    if field in continuous: continuous.remove(field)\n",
    "    if field not in categorical: categorical.append(field)\n",
    "  else:\n",
    "    if field in continuous: continuous.remove(field)\n",
    "    if field in categorical: categorical.remove(field)\n",
    "    triage.append(field)\n",
    "\n",
    "  return df, continuous, categorical, triage"
   ]
  },
  {
   "cell_type": "code",
   "execution_count": 44,
   "metadata": {},
   "outputs": [],
   "source": [
    "def categorize( df, cont_names, cat_names, triage, category_threshold):\n",
    "  for field in df.columns:\n",
    "    if ((len(df[field].unique()) <= category_threshold) and (type(df[field].dtype) != pd.core.dtypes.dtypes.CategoricalDtype)):\n",
    "      reassign_to_categorical(field, df, cont_names, cat_names, triage)\n",
    "  return df, cont_names, cat_names, triage"
   ]
  },
  {
   "cell_type": "code",
   "execution_count": 45,
   "metadata": {},
   "outputs": [],
   "source": [
    "df_train, cont_names, cat_names, triage = categorize(df_train, cont_names, cat_names, triage, 100)"
   ]
  },
  {
   "cell_type": "code",
   "execution_count": 46,
   "metadata": {},
   "outputs": [
    {
     "data": {
      "text/plain": [
       "(1, 74)"
      ]
     },
     "execution_count": 46,
     "metadata": {},
     "output_type": "execute_result"
    }
   ],
   "source": [
    "len(cont_names), len(cat_names)"
   ]
  },
  {
   "cell_type": "markdown",
   "metadata": {},
   "source": [
    "So this is a big rebalancing between continuous and categorical fields. I saved alot of time with this function rather than doing this manually like I had for my initial data exploration. Let's take a look at how many came up for triaging still though"
   ]
  },
  {
   "cell_type": "code",
   "execution_count": 47,
   "metadata": {},
   "outputs": [
    {
     "data": {
      "text/plain": [
       "(#0) []"
      ]
     },
     "execution_count": 47,
     "metadata": {},
     "output_type": "execute_result"
    }
   ],
   "source": [
    "triage"
   ]
  },
  {
   "cell_type": "markdown",
   "metadata": {},
   "source": [
    "This was expected, since my triage fields would only be those that have NA values,so that we can look closer at the data to evaluate a FillMissing strategy, or if we have too many missing data values, to ignore the field in modelling"
   ]
  },
  {
   "cell_type": "markdown",
   "metadata": {
    "id": "CCF-Xnjc6WDm"
   },
   "source": [
    "#### Prep the learner"
   ]
  },
  {
   "cell_type": "markdown",
   "metadata": {
    "id": "SYYZ5JxOiVLr"
   },
   "source": [
    "> Check to make sure I didn't make any typos, if the counts show any missing rows that's a sign"
   ]
  },
  {
   "cell_type": "code",
   "execution_count": 48,
   "metadata": {
    "colab": {
     "base_uri": "https://localhost:8080/",
     "height": 193
    },
    "executionInfo": {
     "elapsed": 87,
     "status": "ok",
     "timestamp": 1624772528404,
     "user": {
      "displayName": "Nissan Dookeran",
      "photoUrl": "https://lh3.googleusercontent.com/a-/AOh14GjX7TWnLkg-K8TmlLAPixO8NhfoICak-b5lZGGqXeU=s64",
      "userId": "10969188591745969823"
     },
     "user_tz": -600
    },
    "id": "Nio2xRAzib_N",
    "outputId": "0ac60455-69ca-41ed-91f7-10edd36bfffa"
   },
   "outputs": [
    {
     "data": {
      "text/html": [
       "<div>\n",
       "<style scoped>\n",
       "    .dataframe tbody tr th:only-of-type {\n",
       "        vertical-align: middle;\n",
       "    }\n",
       "\n",
       "    .dataframe tbody tr th {\n",
       "        vertical-align: top;\n",
       "    }\n",
       "\n",
       "    .dataframe thead th {\n",
       "        text-align: right;\n",
       "    }\n",
       "</style>\n",
       "<table border=\"1\" class=\"dataframe\">\n",
       "  <thead>\n",
       "    <tr style=\"text-align: right;\">\n",
       "      <th></th>\n",
       "      <th>feature_0</th>\n",
       "      <th>feature_1</th>\n",
       "      <th>feature_2</th>\n",
       "      <th>feature_3</th>\n",
       "      <th>feature_4</th>\n",
       "      <th>feature_5</th>\n",
       "      <th>feature_6</th>\n",
       "      <th>feature_7</th>\n",
       "      <th>feature_8</th>\n",
       "      <th>feature_9</th>\n",
       "      <th>...</th>\n",
       "      <th>feature_66</th>\n",
       "      <th>feature_67</th>\n",
       "      <th>feature_68</th>\n",
       "      <th>feature_69</th>\n",
       "      <th>feature_70</th>\n",
       "      <th>feature_71</th>\n",
       "      <th>feature_72</th>\n",
       "      <th>feature_73</th>\n",
       "      <th>feature_74</th>\n",
       "      <th>target</th>\n",
       "    </tr>\n",
       "  </thead>\n",
       "  <tbody>\n",
       "    <tr>\n",
       "      <th>count</th>\n",
       "      <td>200000.0</td>\n",
       "      <td>200000.0</td>\n",
       "      <td>200000.0</td>\n",
       "      <td>200000.0</td>\n",
       "      <td>200000.0</td>\n",
       "      <td>200000.0</td>\n",
       "      <td>200000.0</td>\n",
       "      <td>200000.0</td>\n",
       "      <td>200000.0</td>\n",
       "      <td>200000.0</td>\n",
       "      <td>...</td>\n",
       "      <td>200000.0</td>\n",
       "      <td>200000.0</td>\n",
       "      <td>200000.0</td>\n",
       "      <td>200000.0</td>\n",
       "      <td>200000.0</td>\n",
       "      <td>200000.0</td>\n",
       "      <td>200000.0</td>\n",
       "      <td>200000.0</td>\n",
       "      <td>200000.0</td>\n",
       "      <td>200000</td>\n",
       "    </tr>\n",
       "    <tr>\n",
       "      <th>unique</th>\n",
       "      <td>42.0</td>\n",
       "      <td>37.0</td>\n",
       "      <td>48.0</td>\n",
       "      <td>59.0</td>\n",
       "      <td>30.0</td>\n",
       "      <td>55.0</td>\n",
       "      <td>40.0</td>\n",
       "      <td>26.0</td>\n",
       "      <td>28.0</td>\n",
       "      <td>51.0</td>\n",
       "      <td>...</td>\n",
       "      <td>23.0</td>\n",
       "      <td>57.0</td>\n",
       "      <td>42.0</td>\n",
       "      <td>52.0</td>\n",
       "      <td>49.0</td>\n",
       "      <td>31.0</td>\n",
       "      <td>37.0</td>\n",
       "      <td>91.0</td>\n",
       "      <td>50.0</td>\n",
       "      <td>9</td>\n",
       "    </tr>\n",
       "    <tr>\n",
       "      <th>top</th>\n",
       "      <td>0.0</td>\n",
       "      <td>0.0</td>\n",
       "      <td>0.0</td>\n",
       "      <td>0.0</td>\n",
       "      <td>0.0</td>\n",
       "      <td>0.0</td>\n",
       "      <td>0.0</td>\n",
       "      <td>0.0</td>\n",
       "      <td>0.0</td>\n",
       "      <td>0.0</td>\n",
       "      <td>...</td>\n",
       "      <td>0.0</td>\n",
       "      <td>0.0</td>\n",
       "      <td>0.0</td>\n",
       "      <td>0.0</td>\n",
       "      <td>0.0</td>\n",
       "      <td>0.0</td>\n",
       "      <td>0.0</td>\n",
       "      <td>0.0</td>\n",
       "      <td>0.0</td>\n",
       "      <td>Class_6</td>\n",
       "    </tr>\n",
       "    <tr>\n",
       "      <th>freq</th>\n",
       "      <td>146389.0</td>\n",
       "      <td>140375.0</td>\n",
       "      <td>122501.0</td>\n",
       "      <td>120767.0</td>\n",
       "      <td>154093.0</td>\n",
       "      <td>119020.0</td>\n",
       "      <td>150969.0</td>\n",
       "      <td>150350.0</td>\n",
       "      <td>117000.0</td>\n",
       "      <td>124466.0</td>\n",
       "      <td>...</td>\n",
       "      <td>165048.0</td>\n",
       "      <td>141642.0</td>\n",
       "      <td>145532.0</td>\n",
       "      <td>113213.0</td>\n",
       "      <td>132247.0</td>\n",
       "      <td>139966.0</td>\n",
       "      <td>123153.0</td>\n",
       "      <td>142555.0</td>\n",
       "      <td>169451.0</td>\n",
       "      <td>51811</td>\n",
       "    </tr>\n",
       "    <tr>\n",
       "      <th>mean</th>\n",
       "      <td>NaN</td>\n",
       "      <td>NaN</td>\n",
       "      <td>NaN</td>\n",
       "      <td>NaN</td>\n",
       "      <td>NaN</td>\n",
       "      <td>NaN</td>\n",
       "      <td>NaN</td>\n",
       "      <td>NaN</td>\n",
       "      <td>NaN</td>\n",
       "      <td>NaN</td>\n",
       "      <td>...</td>\n",
       "      <td>NaN</td>\n",
       "      <td>NaN</td>\n",
       "      <td>NaN</td>\n",
       "      <td>NaN</td>\n",
       "      <td>NaN</td>\n",
       "      <td>NaN</td>\n",
       "      <td>NaN</td>\n",
       "      <td>NaN</td>\n",
       "      <td>NaN</td>\n",
       "      <td>NaN</td>\n",
       "    </tr>\n",
       "    <tr>\n",
       "      <th>std</th>\n",
       "      <td>NaN</td>\n",
       "      <td>NaN</td>\n",
       "      <td>NaN</td>\n",
       "      <td>NaN</td>\n",
       "      <td>NaN</td>\n",
       "      <td>NaN</td>\n",
       "      <td>NaN</td>\n",
       "      <td>NaN</td>\n",
       "      <td>NaN</td>\n",
       "      <td>NaN</td>\n",
       "      <td>...</td>\n",
       "      <td>NaN</td>\n",
       "      <td>NaN</td>\n",
       "      <td>NaN</td>\n",
       "      <td>NaN</td>\n",
       "      <td>NaN</td>\n",
       "      <td>NaN</td>\n",
       "      <td>NaN</td>\n",
       "      <td>NaN</td>\n",
       "      <td>NaN</td>\n",
       "      <td>NaN</td>\n",
       "    </tr>\n",
       "    <tr>\n",
       "      <th>min</th>\n",
       "      <td>NaN</td>\n",
       "      <td>NaN</td>\n",
       "      <td>NaN</td>\n",
       "      <td>NaN</td>\n",
       "      <td>NaN</td>\n",
       "      <td>NaN</td>\n",
       "      <td>NaN</td>\n",
       "      <td>NaN</td>\n",
       "      <td>NaN</td>\n",
       "      <td>NaN</td>\n",
       "      <td>...</td>\n",
       "      <td>NaN</td>\n",
       "      <td>NaN</td>\n",
       "      <td>NaN</td>\n",
       "      <td>NaN</td>\n",
       "      <td>NaN</td>\n",
       "      <td>NaN</td>\n",
       "      <td>NaN</td>\n",
       "      <td>NaN</td>\n",
       "      <td>NaN</td>\n",
       "      <td>NaN</td>\n",
       "    </tr>\n",
       "    <tr>\n",
       "      <th>25%</th>\n",
       "      <td>NaN</td>\n",
       "      <td>NaN</td>\n",
       "      <td>NaN</td>\n",
       "      <td>NaN</td>\n",
       "      <td>NaN</td>\n",
       "      <td>NaN</td>\n",
       "      <td>NaN</td>\n",
       "      <td>NaN</td>\n",
       "      <td>NaN</td>\n",
       "      <td>NaN</td>\n",
       "      <td>...</td>\n",
       "      <td>NaN</td>\n",
       "      <td>NaN</td>\n",
       "      <td>NaN</td>\n",
       "      <td>NaN</td>\n",
       "      <td>NaN</td>\n",
       "      <td>NaN</td>\n",
       "      <td>NaN</td>\n",
       "      <td>NaN</td>\n",
       "      <td>NaN</td>\n",
       "      <td>NaN</td>\n",
       "    </tr>\n",
       "    <tr>\n",
       "      <th>50%</th>\n",
       "      <td>NaN</td>\n",
       "      <td>NaN</td>\n",
       "      <td>NaN</td>\n",
       "      <td>NaN</td>\n",
       "      <td>NaN</td>\n",
       "      <td>NaN</td>\n",
       "      <td>NaN</td>\n",
       "      <td>NaN</td>\n",
       "      <td>NaN</td>\n",
       "      <td>NaN</td>\n",
       "      <td>...</td>\n",
       "      <td>NaN</td>\n",
       "      <td>NaN</td>\n",
       "      <td>NaN</td>\n",
       "      <td>NaN</td>\n",
       "      <td>NaN</td>\n",
       "      <td>NaN</td>\n",
       "      <td>NaN</td>\n",
       "      <td>NaN</td>\n",
       "      <td>NaN</td>\n",
       "      <td>NaN</td>\n",
       "    </tr>\n",
       "    <tr>\n",
       "      <th>75%</th>\n",
       "      <td>NaN</td>\n",
       "      <td>NaN</td>\n",
       "      <td>NaN</td>\n",
       "      <td>NaN</td>\n",
       "      <td>NaN</td>\n",
       "      <td>NaN</td>\n",
       "      <td>NaN</td>\n",
       "      <td>NaN</td>\n",
       "      <td>NaN</td>\n",
       "      <td>NaN</td>\n",
       "      <td>...</td>\n",
       "      <td>NaN</td>\n",
       "      <td>NaN</td>\n",
       "      <td>NaN</td>\n",
       "      <td>NaN</td>\n",
       "      <td>NaN</td>\n",
       "      <td>NaN</td>\n",
       "      <td>NaN</td>\n",
       "      <td>NaN</td>\n",
       "      <td>NaN</td>\n",
       "      <td>NaN</td>\n",
       "    </tr>\n",
       "    <tr>\n",
       "      <th>max</th>\n",
       "      <td>NaN</td>\n",
       "      <td>NaN</td>\n",
       "      <td>NaN</td>\n",
       "      <td>NaN</td>\n",
       "      <td>NaN</td>\n",
       "      <td>NaN</td>\n",
       "      <td>NaN</td>\n",
       "      <td>NaN</td>\n",
       "      <td>NaN</td>\n",
       "      <td>NaN</td>\n",
       "      <td>...</td>\n",
       "      <td>NaN</td>\n",
       "      <td>NaN</td>\n",
       "      <td>NaN</td>\n",
       "      <td>NaN</td>\n",
       "      <td>NaN</td>\n",
       "      <td>NaN</td>\n",
       "      <td>NaN</td>\n",
       "      <td>NaN</td>\n",
       "      <td>NaN</td>\n",
       "      <td>NaN</td>\n",
       "    </tr>\n",
       "  </tbody>\n",
       "</table>\n",
       "<p>11 rows × 76 columns</p>\n",
       "</div>"
      ],
      "text/plain": [
       "        feature_0  feature_1  feature_2  feature_3  feature_4  feature_5  \\\n",
       "count    200000.0   200000.0   200000.0   200000.0   200000.0   200000.0   \n",
       "unique       42.0       37.0       48.0       59.0       30.0       55.0   \n",
       "top           0.0        0.0        0.0        0.0        0.0        0.0   \n",
       "freq     146389.0   140375.0   122501.0   120767.0   154093.0   119020.0   \n",
       "mean          NaN        NaN        NaN        NaN        NaN        NaN   \n",
       "std           NaN        NaN        NaN        NaN        NaN        NaN   \n",
       "min           NaN        NaN        NaN        NaN        NaN        NaN   \n",
       "25%           NaN        NaN        NaN        NaN        NaN        NaN   \n",
       "50%           NaN        NaN        NaN        NaN        NaN        NaN   \n",
       "75%           NaN        NaN        NaN        NaN        NaN        NaN   \n",
       "max           NaN        NaN        NaN        NaN        NaN        NaN   \n",
       "\n",
       "        feature_6  feature_7  feature_8  feature_9  ...  feature_66  \\\n",
       "count    200000.0   200000.0   200000.0   200000.0  ...    200000.0   \n",
       "unique       40.0       26.0       28.0       51.0  ...        23.0   \n",
       "top           0.0        0.0        0.0        0.0  ...         0.0   \n",
       "freq     150969.0   150350.0   117000.0   124466.0  ...    165048.0   \n",
       "mean          NaN        NaN        NaN        NaN  ...         NaN   \n",
       "std           NaN        NaN        NaN        NaN  ...         NaN   \n",
       "min           NaN        NaN        NaN        NaN  ...         NaN   \n",
       "25%           NaN        NaN        NaN        NaN  ...         NaN   \n",
       "50%           NaN        NaN        NaN        NaN  ...         NaN   \n",
       "75%           NaN        NaN        NaN        NaN  ...         NaN   \n",
       "max           NaN        NaN        NaN        NaN  ...         NaN   \n",
       "\n",
       "        feature_67  feature_68  feature_69  feature_70  feature_71  \\\n",
       "count     200000.0    200000.0    200000.0    200000.0    200000.0   \n",
       "unique        57.0        42.0        52.0        49.0        31.0   \n",
       "top            0.0         0.0         0.0         0.0         0.0   \n",
       "freq      141642.0    145532.0    113213.0    132247.0    139966.0   \n",
       "mean           NaN         NaN         NaN         NaN         NaN   \n",
       "std            NaN         NaN         NaN         NaN         NaN   \n",
       "min            NaN         NaN         NaN         NaN         NaN   \n",
       "25%            NaN         NaN         NaN         NaN         NaN   \n",
       "50%            NaN         NaN         NaN         NaN         NaN   \n",
       "75%            NaN         NaN         NaN         NaN         NaN   \n",
       "max            NaN         NaN         NaN         NaN         NaN   \n",
       "\n",
       "        feature_72  feature_73  feature_74   target  \n",
       "count     200000.0    200000.0    200000.0   200000  \n",
       "unique        37.0        91.0        50.0        9  \n",
       "top            0.0         0.0         0.0  Class_6  \n",
       "freq      123153.0    142555.0    169451.0    51811  \n",
       "mean           NaN         NaN         NaN      NaN  \n",
       "std            NaN         NaN         NaN      NaN  \n",
       "min            NaN         NaN         NaN      NaN  \n",
       "25%            NaN         NaN         NaN      NaN  \n",
       "50%            NaN         NaN         NaN      NaN  \n",
       "75%            NaN         NaN         NaN      NaN  \n",
       "max            NaN         NaN         NaN      NaN  \n",
       "\n",
       "[11 rows x 76 columns]"
      ]
     },
     "execution_count": 48,
     "metadata": {},
     "output_type": "execute_result"
    }
   ],
   "source": [
    "df_train.describe(include='all')"
   ]
  },
  {
   "cell_type": "code",
   "execution_count": 49,
   "metadata": {
    "colab": {
     "base_uri": "https://localhost:8080/"
    },
    "executionInfo": {
     "elapsed": 86,
     "status": "ok",
     "timestamp": 1624772528404,
     "user": {
      "displayName": "Nissan Dookeran",
      "photoUrl": "https://lh3.googleusercontent.com/a-/AOh14GjX7TWnLkg-K8TmlLAPixO8NhfoICak-b5lZGGqXeU=s64",
      "userId": "10969188591745969823"
     },
     "user_tz": -600
    },
    "id": "mLZsiKNe5F35",
    "outputId": "25275bd5-f10a-402e-f5f7-4b5add212178"
   },
   "outputs": [
    {
     "data": {
      "text/plain": [
       "False"
      ]
     },
     "execution_count": 49,
     "metadata": {},
     "output_type": "execute_result"
    }
   ],
   "source": [
    "True in df_train.isna()"
   ]
  },
  {
   "cell_type": "code",
   "execution_count": 50,
   "metadata": {
    "colab": {
     "base_uri": "https://localhost:8080/"
    },
    "executionInfo": {
     "elapsed": 71,
     "status": "ok",
     "timestamp": 1624772528405,
     "user": {
      "displayName": "Nissan Dookeran",
      "photoUrl": "https://lh3.googleusercontent.com/a-/AOh14GjX7TWnLkg-K8TmlLAPixO8NhfoICak-b5lZGGqXeU=s64",
      "userId": "10969188591745969823"
     },
     "user_tz": -600
    },
    "id": "nL7jI-UhN0UG",
    "outputId": "d5d070b8-7daa-4200-9283-5c20fb017353"
   },
   "outputs": [
    {
     "data": {
      "text/plain": [
       "(False, False)"
      ]
     },
     "execution_count": 50,
     "metadata": {},
     "output_type": "execute_result"
    }
   ],
   "source": [
    "\"id\" in cont_names, \"id\" in cat_names #Make sure we've gotten our y-column excluded"
   ]
  },
  {
   "cell_type": "code",
   "execution_count": 51,
   "metadata": {
    "executionInfo": {
     "elapsed": 656,
     "status": "ok",
     "timestamp": 1624772529005,
     "user": {
      "displayName": "Nissan Dookeran",
      "photoUrl": "https://lh3.googleusercontent.com/a-/AOh14GjX7TWnLkg-K8TmlLAPixO8NhfoICak-b5lZGGqXeU=s64",
      "userId": "10969188591745969823"
     },
     "user_tz": -600
    },
    "id": "I_Yct6VBdcqW"
   },
   "outputs": [],
   "source": [
    "procs = [Categorify, FillMissing, Normalize]\n",
    "splits = TrainTestSplitter(test_size=test_size, stratify=df_train[y_names])(df_train)"
   ]
  },
  {
   "cell_type": "code",
   "execution_count": 116,
   "metadata": {
    "colab": {
     "base_uri": "https://localhost:8080/",
     "height": 379
    },
    "executionInfo": {
     "elapsed": 465,
     "status": "ok",
     "timestamp": 1624772529468,
     "user": {
      "displayName": "Nissan Dookeran",
      "photoUrl": "https://lh3.googleusercontent.com/a-/AOh14GjX7TWnLkg-K8TmlLAPixO8NhfoICak-b5lZGGqXeU=s64",
      "userId": "10969188591745969823"
     },
     "user_tz": -600
    },
    "id": "Vc7Ec_JHdZVN",
    "outputId": "37040ef9-9d2c-42e9-ac02-6ecfa06c5b6a"
   },
   "outputs": [
    {
     "data": {
      "text/html": [
       "<table border=\"1\" class=\"dataframe\">\n",
       "  <thead>\n",
       "    <tr style=\"text-align: right;\">\n",
       "      <th></th>\n",
       "      <th>feature_17</th>\n",
       "      <th>feature_26</th>\n",
       "      <th>feature_30</th>\n",
       "      <th>feature_0</th>\n",
       "      <th>feature_1</th>\n",
       "      <th>feature_2</th>\n",
       "      <th>feature_3</th>\n",
       "      <th>feature_4</th>\n",
       "      <th>feature_5</th>\n",
       "      <th>feature_6</th>\n",
       "      <th>feature_7</th>\n",
       "      <th>feature_8</th>\n",
       "      <th>feature_9</th>\n",
       "      <th>feature_10</th>\n",
       "      <th>feature_11</th>\n",
       "      <th>feature_12</th>\n",
       "      <th>feature_13</th>\n",
       "      <th>feature_14</th>\n",
       "      <th>feature_16</th>\n",
       "      <th>feature_18</th>\n",
       "      <th>feature_19</th>\n",
       "      <th>feature_20</th>\n",
       "      <th>feature_21</th>\n",
       "      <th>feature_22</th>\n",
       "      <th>feature_23</th>\n",
       "      <th>feature_24</th>\n",
       "      <th>feature_25</th>\n",
       "      <th>feature_27</th>\n",
       "      <th>feature_28</th>\n",
       "      <th>feature_29</th>\n",
       "      <th>feature_31</th>\n",
       "      <th>feature_32</th>\n",
       "      <th>feature_33</th>\n",
       "      <th>feature_34</th>\n",
       "      <th>feature_35</th>\n",
       "      <th>feature_36</th>\n",
       "      <th>feature_37</th>\n",
       "      <th>feature_38</th>\n",
       "      <th>feature_39</th>\n",
       "      <th>feature_40</th>\n",
       "      <th>feature_41</th>\n",
       "      <th>feature_42</th>\n",
       "      <th>feature_43</th>\n",
       "      <th>feature_44</th>\n",
       "      <th>feature_45</th>\n",
       "      <th>feature_46</th>\n",
       "      <th>feature_47</th>\n",
       "      <th>feature_48</th>\n",
       "      <th>feature_49</th>\n",
       "      <th>feature_50</th>\n",
       "      <th>feature_51</th>\n",
       "      <th>feature_52</th>\n",
       "      <th>feature_53</th>\n",
       "      <th>feature_54</th>\n",
       "      <th>feature_55</th>\n",
       "      <th>feature_56</th>\n",
       "      <th>feature_57</th>\n",
       "      <th>feature_58</th>\n",
       "      <th>feature_59</th>\n",
       "      <th>feature_60</th>\n",
       "      <th>feature_61</th>\n",
       "      <th>feature_62</th>\n",
       "      <th>feature_63</th>\n",
       "      <th>feature_64</th>\n",
       "      <th>feature_65</th>\n",
       "      <th>feature_66</th>\n",
       "      <th>feature_67</th>\n",
       "      <th>feature_68</th>\n",
       "      <th>feature_69</th>\n",
       "      <th>feature_70</th>\n",
       "      <th>feature_71</th>\n",
       "      <th>feature_72</th>\n",
       "      <th>feature_73</th>\n",
       "      <th>feature_74</th>\n",
       "      <th>feature_15</th>\n",
       "      <th>target</th>\n",
       "    </tr>\n",
       "  </thead>\n",
       "  <tbody>\n",
       "    <tr>\n",
       "      <th>0</th>\n",
       "      <td>0</td>\n",
       "      <td>1</td>\n",
       "      <td>0</td>\n",
       "      <td>0</td>\n",
       "      <td>0</td>\n",
       "      <td>0</td>\n",
       "      <td>0</td>\n",
       "      <td>0</td>\n",
       "      <td>0</td>\n",
       "      <td>0</td>\n",
       "      <td>0</td>\n",
       "      <td>0</td>\n",
       "      <td>0</td>\n",
       "      <td>0</td>\n",
       "      <td>0</td>\n",
       "      <td>1</td>\n",
       "      <td>0</td>\n",
       "      <td>0</td>\n",
       "      <td>0</td>\n",
       "      <td>0</td>\n",
       "      <td>0</td>\n",
       "      <td>0</td>\n",
       "      <td>0</td>\n",
       "      <td>0</td>\n",
       "      <td>0</td>\n",
       "      <td>0</td>\n",
       "      <td>0</td>\n",
       "      <td>0</td>\n",
       "      <td>0</td>\n",
       "      <td>0</td>\n",
       "      <td>0</td>\n",
       "      <td>0</td>\n",
       "      <td>1</td>\n",
       "      <td>0</td>\n",
       "      <td>0</td>\n",
       "      <td>0</td>\n",
       "      <td>0</td>\n",
       "      <td>0</td>\n",
       "      <td>0</td>\n",
       "      <td>0</td>\n",
       "      <td>0</td>\n",
       "      <td>0</td>\n",
       "      <td>1</td>\n",
       "      <td>0</td>\n",
       "      <td>0</td>\n",
       "      <td>0</td>\n",
       "      <td>0</td>\n",
       "      <td>0</td>\n",
       "      <td>0</td>\n",
       "      <td>0</td>\n",
       "      <td>0</td>\n",
       "      <td>0</td>\n",
       "      <td>0</td>\n",
       "      <td>17</td>\n",
       "      <td>3</td>\n",
       "      <td>0</td>\n",
       "      <td>0</td>\n",
       "      <td>1</td>\n",
       "      <td>0</td>\n",
       "      <td>0</td>\n",
       "      <td>0</td>\n",
       "      <td>0</td>\n",
       "      <td>0</td>\n",
       "      <td>0</td>\n",
       "      <td>0</td>\n",
       "      <td>0</td>\n",
       "      <td>0</td>\n",
       "      <td>0</td>\n",
       "      <td>0</td>\n",
       "      <td>0</td>\n",
       "      <td>0</td>\n",
       "      <td>0</td>\n",
       "      <td>0</td>\n",
       "      <td>0</td>\n",
       "      <td>4.692236e-08</td>\n",
       "      <td>Class_2</td>\n",
       "    </tr>\n",
       "    <tr>\n",
       "      <th>1</th>\n",
       "      <td>0</td>\n",
       "      <td>1</td>\n",
       "      <td>1</td>\n",
       "      <td>1</td>\n",
       "      <td>0</td>\n",
       "      <td>0</td>\n",
       "      <td>0</td>\n",
       "      <td>0</td>\n",
       "      <td>2</td>\n",
       "      <td>0</td>\n",
       "      <td>0</td>\n",
       "      <td>1</td>\n",
       "      <td>1</td>\n",
       "      <td>0</td>\n",
       "      <td>0</td>\n",
       "      <td>0</td>\n",
       "      <td>0</td>\n",
       "      <td>3</td>\n",
       "      <td>0</td>\n",
       "      <td>4</td>\n",
       "      <td>3</td>\n",
       "      <td>0</td>\n",
       "      <td>0</td>\n",
       "      <td>0</td>\n",
       "      <td>0</td>\n",
       "      <td>1</td>\n",
       "      <td>1</td>\n",
       "      <td>0</td>\n",
       "      <td>0</td>\n",
       "      <td>1</td>\n",
       "      <td>2</td>\n",
       "      <td>1</td>\n",
       "      <td>2</td>\n",
       "      <td>0</td>\n",
       "      <td>0</td>\n",
       "      <td>0</td>\n",
       "      <td>0</td>\n",
       "      <td>0</td>\n",
       "      <td>0</td>\n",
       "      <td>0</td>\n",
       "      <td>3</td>\n",
       "      <td>0</td>\n",
       "      <td>2</td>\n",
       "      <td>0</td>\n",
       "      <td>0</td>\n",
       "      <td>0</td>\n",
       "      <td>1</td>\n",
       "      <td>3</td>\n",
       "      <td>0</td>\n",
       "      <td>1</td>\n",
       "      <td>2</td>\n",
       "      <td>0</td>\n",
       "      <td>0</td>\n",
       "      <td>1</td>\n",
       "      <td>0</td>\n",
       "      <td>0</td>\n",
       "      <td>0</td>\n",
       "      <td>0</td>\n",
       "      <td>1</td>\n",
       "      <td>2</td>\n",
       "      <td>0</td>\n",
       "      <td>6</td>\n",
       "      <td>0</td>\n",
       "      <td>0</td>\n",
       "      <td>0</td>\n",
       "      <td>1</td>\n",
       "      <td>5</td>\n",
       "      <td>0</td>\n",
       "      <td>0</td>\n",
       "      <td>0</td>\n",
       "      <td>0</td>\n",
       "      <td>4</td>\n",
       "      <td>0</td>\n",
       "      <td>1</td>\n",
       "      <td>4.692236e-08</td>\n",
       "      <td>Class_2</td>\n",
       "    </tr>\n",
       "    <tr>\n",
       "      <th>2</th>\n",
       "      <td>6</td>\n",
       "      <td>0</td>\n",
       "      <td>0</td>\n",
       "      <td>0</td>\n",
       "      <td>0</td>\n",
       "      <td>0</td>\n",
       "      <td>2</td>\n",
       "      <td>0</td>\n",
       "      <td>0</td>\n",
       "      <td>1</td>\n",
       "      <td>0</td>\n",
       "      <td>0</td>\n",
       "      <td>1</td>\n",
       "      <td>2</td>\n",
       "      <td>1</td>\n",
       "      <td>0</td>\n",
       "      <td>0</td>\n",
       "      <td>1</td>\n",
       "      <td>0</td>\n",
       "      <td>0</td>\n",
       "      <td>8</td>\n",
       "      <td>0</td>\n",
       "      <td>0</td>\n",
       "      <td>0</td>\n",
       "      <td>0</td>\n",
       "      <td>0</td>\n",
       "      <td>1</td>\n",
       "      <td>0</td>\n",
       "      <td>0</td>\n",
       "      <td>0</td>\n",
       "      <td>0</td>\n",
       "      <td>0</td>\n",
       "      <td>0</td>\n",
       "      <td>0</td>\n",
       "      <td>1</td>\n",
       "      <td>4</td>\n",
       "      <td>1</td>\n",
       "      <td>1</td>\n",
       "      <td>0</td>\n",
       "      <td>0</td>\n",
       "      <td>0</td>\n",
       "      <td>1</td>\n",
       "      <td>1</td>\n",
       "      <td>0</td>\n",
       "      <td>1</td>\n",
       "      <td>0</td>\n",
       "      <td>0</td>\n",
       "      <td>0</td>\n",
       "      <td>1</td>\n",
       "      <td>2</td>\n",
       "      <td>1</td>\n",
       "      <td>0</td>\n",
       "      <td>0</td>\n",
       "      <td>8</td>\n",
       "      <td>1</td>\n",
       "      <td>4</td>\n",
       "      <td>0</td>\n",
       "      <td>0</td>\n",
       "      <td>0</td>\n",
       "      <td>2</td>\n",
       "      <td>0</td>\n",
       "      <td>1</td>\n",
       "      <td>0</td>\n",
       "      <td>0</td>\n",
       "      <td>15</td>\n",
       "      <td>0</td>\n",
       "      <td>0</td>\n",
       "      <td>0</td>\n",
       "      <td>0</td>\n",
       "      <td>0</td>\n",
       "      <td>4</td>\n",
       "      <td>0</td>\n",
       "      <td>0</td>\n",
       "      <td>0</td>\n",
       "      <td>4.692236e-08</td>\n",
       "      <td>Class_6</td>\n",
       "    </tr>\n",
       "    <tr>\n",
       "      <th>3</th>\n",
       "      <td>0</td>\n",
       "      <td>0</td>\n",
       "      <td>0</td>\n",
       "      <td>0</td>\n",
       "      <td>3</td>\n",
       "      <td>0</td>\n",
       "      <td>1</td>\n",
       "      <td>3</td>\n",
       "      <td>0</td>\n",
       "      <td>0</td>\n",
       "      <td>0</td>\n",
       "      <td>9</td>\n",
       "      <td>1</td>\n",
       "      <td>0</td>\n",
       "      <td>32</td>\n",
       "      <td>1</td>\n",
       "      <td>1</td>\n",
       "      <td>0</td>\n",
       "      <td>1</td>\n",
       "      <td>5</td>\n",
       "      <td>0</td>\n",
       "      <td>0</td>\n",
       "      <td>0</td>\n",
       "      <td>0</td>\n",
       "      <td>0</td>\n",
       "      <td>0</td>\n",
       "      <td>8</td>\n",
       "      <td>0</td>\n",
       "      <td>2</td>\n",
       "      <td>0</td>\n",
       "      <td>3</td>\n",
       "      <td>1</td>\n",
       "      <td>0</td>\n",
       "      <td>0</td>\n",
       "      <td>0</td>\n",
       "      <td>0</td>\n",
       "      <td>5</td>\n",
       "      <td>0</td>\n",
       "      <td>0</td>\n",
       "      <td>1</td>\n",
       "      <td>0</td>\n",
       "      <td>0</td>\n",
       "      <td>9</td>\n",
       "      <td>2</td>\n",
       "      <td>0</td>\n",
       "      <td>0</td>\n",
       "      <td>0</td>\n",
       "      <td>4</td>\n",
       "      <td>0</td>\n",
       "      <td>2</td>\n",
       "      <td>0</td>\n",
       "      <td>0</td>\n",
       "      <td>2</td>\n",
       "      <td>14</td>\n",
       "      <td>0</td>\n",
       "      <td>0</td>\n",
       "      <td>0</td>\n",
       "      <td>2</td>\n",
       "      <td>5</td>\n",
       "      <td>1</td>\n",
       "      <td>1</td>\n",
       "      <td>0</td>\n",
       "      <td>0</td>\n",
       "      <td>0</td>\n",
       "      <td>5</td>\n",
       "      <td>0</td>\n",
       "      <td>0</td>\n",
       "      <td>1</td>\n",
       "      <td>0</td>\n",
       "      <td>0</td>\n",
       "      <td>0</td>\n",
       "      <td>1</td>\n",
       "      <td>0</td>\n",
       "      <td>0</td>\n",
       "      <td>4.692236e-08</td>\n",
       "      <td>Class_6</td>\n",
       "    </tr>\n",
       "    <tr>\n",
       "      <th>4</th>\n",
       "      <td>2</td>\n",
       "      <td>0</td>\n",
       "      <td>0</td>\n",
       "      <td>1</td>\n",
       "      <td>23</td>\n",
       "      <td>0</td>\n",
       "      <td>1</td>\n",
       "      <td>0</td>\n",
       "      <td>1</td>\n",
       "      <td>1</td>\n",
       "      <td>0</td>\n",
       "      <td>0</td>\n",
       "      <td>41</td>\n",
       "      <td>0</td>\n",
       "      <td>1</td>\n",
       "      <td>0</td>\n",
       "      <td>1</td>\n",
       "      <td>1</td>\n",
       "      <td>0</td>\n",
       "      <td>1</td>\n",
       "      <td>2</td>\n",
       "      <td>3</td>\n",
       "      <td>4</td>\n",
       "      <td>0</td>\n",
       "      <td>0</td>\n",
       "      <td>0</td>\n",
       "      <td>14</td>\n",
       "      <td>2</td>\n",
       "      <td>0</td>\n",
       "      <td>12</td>\n",
       "      <td>4</td>\n",
       "      <td>54</td>\n",
       "      <td>2</td>\n",
       "      <td>1</td>\n",
       "      <td>0</td>\n",
       "      <td>0</td>\n",
       "      <td>1</td>\n",
       "      <td>11</td>\n",
       "      <td>3</td>\n",
       "      <td>13</td>\n",
       "      <td>0</td>\n",
       "      <td>0</td>\n",
       "      <td>3</td>\n",
       "      <td>0</td>\n",
       "      <td>0</td>\n",
       "      <td>0</td>\n",
       "      <td>1</td>\n",
       "      <td>1</td>\n",
       "      <td>0</td>\n",
       "      <td>0</td>\n",
       "      <td>42</td>\n",
       "      <td>0</td>\n",
       "      <td>3</td>\n",
       "      <td>54</td>\n",
       "      <td>0</td>\n",
       "      <td>25</td>\n",
       "      <td>0</td>\n",
       "      <td>0</td>\n",
       "      <td>0</td>\n",
       "      <td>1</td>\n",
       "      <td>0</td>\n",
       "      <td>3</td>\n",
       "      <td>2</td>\n",
       "      <td>19</td>\n",
       "      <td>0</td>\n",
       "      <td>0</td>\n",
       "      <td>0</td>\n",
       "      <td>0</td>\n",
       "      <td>0</td>\n",
       "      <td>1</td>\n",
       "      <td>1</td>\n",
       "      <td>0</td>\n",
       "      <td>0</td>\n",
       "      <td>0</td>\n",
       "      <td>4.692236e-08</td>\n",
       "      <td>Class_2</td>\n",
       "    </tr>\n",
       "    <tr>\n",
       "      <th>5</th>\n",
       "      <td>0</td>\n",
       "      <td>0</td>\n",
       "      <td>0</td>\n",
       "      <td>0</td>\n",
       "      <td>0</td>\n",
       "      <td>0</td>\n",
       "      <td>0</td>\n",
       "      <td>0</td>\n",
       "      <td>0</td>\n",
       "      <td>2</td>\n",
       "      <td>0</td>\n",
       "      <td>0</td>\n",
       "      <td>0</td>\n",
       "      <td>4</td>\n",
       "      <td>0</td>\n",
       "      <td>0</td>\n",
       "      <td>0</td>\n",
       "      <td>0</td>\n",
       "      <td>0</td>\n",
       "      <td>0</td>\n",
       "      <td>1</td>\n",
       "      <td>0</td>\n",
       "      <td>0</td>\n",
       "      <td>0</td>\n",
       "      <td>0</td>\n",
       "      <td>0</td>\n",
       "      <td>0</td>\n",
       "      <td>0</td>\n",
       "      <td>0</td>\n",
       "      <td>0</td>\n",
       "      <td>0</td>\n",
       "      <td>0</td>\n",
       "      <td>0</td>\n",
       "      <td>0</td>\n",
       "      <td>0</td>\n",
       "      <td>0</td>\n",
       "      <td>0</td>\n",
       "      <td>1</td>\n",
       "      <td>1</td>\n",
       "      <td>0</td>\n",
       "      <td>0</td>\n",
       "      <td>0</td>\n",
       "      <td>0</td>\n",
       "      <td>0</td>\n",
       "      <td>0</td>\n",
       "      <td>1</td>\n",
       "      <td>0</td>\n",
       "      <td>0</td>\n",
       "      <td>0</td>\n",
       "      <td>0</td>\n",
       "      <td>0</td>\n",
       "      <td>0</td>\n",
       "      <td>0</td>\n",
       "      <td>0</td>\n",
       "      <td>0</td>\n",
       "      <td>0</td>\n",
       "      <td>0</td>\n",
       "      <td>0</td>\n",
       "      <td>0</td>\n",
       "      <td>0</td>\n",
       "      <td>1</td>\n",
       "      <td>0</td>\n",
       "      <td>0</td>\n",
       "      <td>0</td>\n",
       "      <td>0</td>\n",
       "      <td>0</td>\n",
       "      <td>0</td>\n",
       "      <td>0</td>\n",
       "      <td>0</td>\n",
       "      <td>0</td>\n",
       "      <td>2</td>\n",
       "      <td>0</td>\n",
       "      <td>0</td>\n",
       "      <td>0</td>\n",
       "      <td>4.692236e-08</td>\n",
       "      <td>Class_4</td>\n",
       "    </tr>\n",
       "    <tr>\n",
       "      <th>6</th>\n",
       "      <td>0</td>\n",
       "      <td>0</td>\n",
       "      <td>0</td>\n",
       "      <td>0</td>\n",
       "      <td>0</td>\n",
       "      <td>0</td>\n",
       "      <td>1</td>\n",
       "      <td>0</td>\n",
       "      <td>0</td>\n",
       "      <td>0</td>\n",
       "      <td>0</td>\n",
       "      <td>0</td>\n",
       "      <td>0</td>\n",
       "      <td>0</td>\n",
       "      <td>0</td>\n",
       "      <td>7</td>\n",
       "      <td>0</td>\n",
       "      <td>1</td>\n",
       "      <td>0</td>\n",
       "      <td>2</td>\n",
       "      <td>1</td>\n",
       "      <td>0</td>\n",
       "      <td>10</td>\n",
       "      <td>0</td>\n",
       "      <td>0</td>\n",
       "      <td>0</td>\n",
       "      <td>0</td>\n",
       "      <td>0</td>\n",
       "      <td>0</td>\n",
       "      <td>0</td>\n",
       "      <td>2</td>\n",
       "      <td>0</td>\n",
       "      <td>10</td>\n",
       "      <td>0</td>\n",
       "      <td>1</td>\n",
       "      <td>0</td>\n",
       "      <td>1</td>\n",
       "      <td>2</td>\n",
       "      <td>0</td>\n",
       "      <td>0</td>\n",
       "      <td>0</td>\n",
       "      <td>1</td>\n",
       "      <td>3</td>\n",
       "      <td>1</td>\n",
       "      <td>0</td>\n",
       "      <td>0</td>\n",
       "      <td>0</td>\n",
       "      <td>0</td>\n",
       "      <td>0</td>\n",
       "      <td>1</td>\n",
       "      <td>1</td>\n",
       "      <td>0</td>\n",
       "      <td>2</td>\n",
       "      <td>6</td>\n",
       "      <td>0</td>\n",
       "      <td>0</td>\n",
       "      <td>0</td>\n",
       "      <td>0</td>\n",
       "      <td>0</td>\n",
       "      <td>0</td>\n",
       "      <td>0</td>\n",
       "      <td>1</td>\n",
       "      <td>0</td>\n",
       "      <td>0</td>\n",
       "      <td>0</td>\n",
       "      <td>0</td>\n",
       "      <td>2</td>\n",
       "      <td>0</td>\n",
       "      <td>0</td>\n",
       "      <td>0</td>\n",
       "      <td>0</td>\n",
       "      <td>0</td>\n",
       "      <td>1</td>\n",
       "      <td>0</td>\n",
       "      <td>4.692236e-08</td>\n",
       "      <td>Class_8</td>\n",
       "    </tr>\n",
       "    <tr>\n",
       "      <th>7</th>\n",
       "      <td>0</td>\n",
       "      <td>2</td>\n",
       "      <td>0</td>\n",
       "      <td>0</td>\n",
       "      <td>0</td>\n",
       "      <td>1</td>\n",
       "      <td>0</td>\n",
       "      <td>0</td>\n",
       "      <td>0</td>\n",
       "      <td>0</td>\n",
       "      <td>0</td>\n",
       "      <td>0</td>\n",
       "      <td>0</td>\n",
       "      <td>1</td>\n",
       "      <td>0</td>\n",
       "      <td>3</td>\n",
       "      <td>0</td>\n",
       "      <td>0</td>\n",
       "      <td>0</td>\n",
       "      <td>1</td>\n",
       "      <td>3</td>\n",
       "      <td>0</td>\n",
       "      <td>0</td>\n",
       "      <td>1</td>\n",
       "      <td>0</td>\n",
       "      <td>0</td>\n",
       "      <td>0</td>\n",
       "      <td>0</td>\n",
       "      <td>0</td>\n",
       "      <td>0</td>\n",
       "      <td>1</td>\n",
       "      <td>1</td>\n",
       "      <td>8</td>\n",
       "      <td>0</td>\n",
       "      <td>1</td>\n",
       "      <td>0</td>\n",
       "      <td>3</td>\n",
       "      <td>0</td>\n",
       "      <td>2</td>\n",
       "      <td>0</td>\n",
       "      <td>0</td>\n",
       "      <td>0</td>\n",
       "      <td>6</td>\n",
       "      <td>0</td>\n",
       "      <td>0</td>\n",
       "      <td>0</td>\n",
       "      <td>0</td>\n",
       "      <td>0</td>\n",
       "      <td>0</td>\n",
       "      <td>4</td>\n",
       "      <td>0</td>\n",
       "      <td>0</td>\n",
       "      <td>4</td>\n",
       "      <td>4</td>\n",
       "      <td>0</td>\n",
       "      <td>0</td>\n",
       "      <td>0</td>\n",
       "      <td>0</td>\n",
       "      <td>0</td>\n",
       "      <td>1</td>\n",
       "      <td>0</td>\n",
       "      <td>4</td>\n",
       "      <td>0</td>\n",
       "      <td>0</td>\n",
       "      <td>7</td>\n",
       "      <td>0</td>\n",
       "      <td>0</td>\n",
       "      <td>1</td>\n",
       "      <td>4</td>\n",
       "      <td>0</td>\n",
       "      <td>0</td>\n",
       "      <td>0</td>\n",
       "      <td>0</td>\n",
       "      <td>0</td>\n",
       "      <td>4.692236e-08</td>\n",
       "      <td>Class_8</td>\n",
       "    </tr>\n",
       "    <tr>\n",
       "      <th>8</th>\n",
       "      <td>0</td>\n",
       "      <td>0</td>\n",
       "      <td>0</td>\n",
       "      <td>6</td>\n",
       "      <td>1</td>\n",
       "      <td>0</td>\n",
       "      <td>1</td>\n",
       "      <td>1</td>\n",
       "      <td>2</td>\n",
       "      <td>0</td>\n",
       "      <td>5</td>\n",
       "      <td>1</td>\n",
       "      <td>0</td>\n",
       "      <td>0</td>\n",
       "      <td>0</td>\n",
       "      <td>2</td>\n",
       "      <td>0</td>\n",
       "      <td>3</td>\n",
       "      <td>2</td>\n",
       "      <td>6</td>\n",
       "      <td>0</td>\n",
       "      <td>5</td>\n",
       "      <td>0</td>\n",
       "      <td>0</td>\n",
       "      <td>1</td>\n",
       "      <td>2</td>\n",
       "      <td>3</td>\n",
       "      <td>1</td>\n",
       "      <td>1</td>\n",
       "      <td>0</td>\n",
       "      <td>0</td>\n",
       "      <td>0</td>\n",
       "      <td>0</td>\n",
       "      <td>1</td>\n",
       "      <td>2</td>\n",
       "      <td>2</td>\n",
       "      <td>2</td>\n",
       "      <td>6</td>\n",
       "      <td>4</td>\n",
       "      <td>1</td>\n",
       "      <td>3</td>\n",
       "      <td>0</td>\n",
       "      <td>3</td>\n",
       "      <td>4</td>\n",
       "      <td>1</td>\n",
       "      <td>7</td>\n",
       "      <td>0</td>\n",
       "      <td>1</td>\n",
       "      <td>0</td>\n",
       "      <td>2</td>\n",
       "      <td>1</td>\n",
       "      <td>0</td>\n",
       "      <td>4</td>\n",
       "      <td>18</td>\n",
       "      <td>0</td>\n",
       "      <td>2</td>\n",
       "      <td>0</td>\n",
       "      <td>1</td>\n",
       "      <td>1</td>\n",
       "      <td>1</td>\n",
       "      <td>0</td>\n",
       "      <td>4</td>\n",
       "      <td>1</td>\n",
       "      <td>0</td>\n",
       "      <td>7</td>\n",
       "      <td>0</td>\n",
       "      <td>0</td>\n",
       "      <td>0</td>\n",
       "      <td>0</td>\n",
       "      <td>1</td>\n",
       "      <td>0</td>\n",
       "      <td>2</td>\n",
       "      <td>6</td>\n",
       "      <td>0</td>\n",
       "      <td>2.000000e+00</td>\n",
       "      <td>Class_6</td>\n",
       "    </tr>\n",
       "    <tr>\n",
       "      <th>9</th>\n",
       "      <td>0</td>\n",
       "      <td>0</td>\n",
       "      <td>0</td>\n",
       "      <td>0</td>\n",
       "      <td>0</td>\n",
       "      <td>0</td>\n",
       "      <td>0</td>\n",
       "      <td>0</td>\n",
       "      <td>0</td>\n",
       "      <td>1</td>\n",
       "      <td>0</td>\n",
       "      <td>0</td>\n",
       "      <td>0</td>\n",
       "      <td>0</td>\n",
       "      <td>1</td>\n",
       "      <td>0</td>\n",
       "      <td>0</td>\n",
       "      <td>0</td>\n",
       "      <td>0</td>\n",
       "      <td>0</td>\n",
       "      <td>0</td>\n",
       "      <td>2</td>\n",
       "      <td>0</td>\n",
       "      <td>0</td>\n",
       "      <td>0</td>\n",
       "      <td>1</td>\n",
       "      <td>0</td>\n",
       "      <td>0</td>\n",
       "      <td>0</td>\n",
       "      <td>0</td>\n",
       "      <td>0</td>\n",
       "      <td>0</td>\n",
       "      <td>0</td>\n",
       "      <td>0</td>\n",
       "      <td>0</td>\n",
       "      <td>0</td>\n",
       "      <td>0</td>\n",
       "      <td>0</td>\n",
       "      <td>2</td>\n",
       "      <td>0</td>\n",
       "      <td>0</td>\n",
       "      <td>0</td>\n",
       "      <td>0</td>\n",
       "      <td>0</td>\n",
       "      <td>0</td>\n",
       "      <td>0</td>\n",
       "      <td>0</td>\n",
       "      <td>0</td>\n",
       "      <td>0</td>\n",
       "      <td>0</td>\n",
       "      <td>0</td>\n",
       "      <td>0</td>\n",
       "      <td>0</td>\n",
       "      <td>2</td>\n",
       "      <td>0</td>\n",
       "      <td>0</td>\n",
       "      <td>0</td>\n",
       "      <td>0</td>\n",
       "      <td>0</td>\n",
       "      <td>0</td>\n",
       "      <td>0</td>\n",
       "      <td>0</td>\n",
       "      <td>0</td>\n",
       "      <td>0</td>\n",
       "      <td>0</td>\n",
       "      <td>0</td>\n",
       "      <td>0</td>\n",
       "      <td>0</td>\n",
       "      <td>0</td>\n",
       "      <td>0</td>\n",
       "      <td>0</td>\n",
       "      <td>0</td>\n",
       "      <td>0</td>\n",
       "      <td>0</td>\n",
       "      <td>4.692236e-08</td>\n",
       "      <td>Class_9</td>\n",
       "    </tr>\n",
       "  </tbody>\n",
       "</table>"
      ],
      "text/plain": [
       "<IPython.core.display.HTML object>"
      ]
     },
     "metadata": {},
     "output_type": "display_data"
    }
   ],
   "source": [
    "to = TabularPandas(df=df_train, procs=procs, cat_names=cat_names, cont_names=cont_names, y_names=y_names,splits=splits)\n",
    "dls = to.dataloaders(bs=bs, val_bs=val_bs, layers=[500,1000], ps=[0.01,0.001])\n",
    "dls.valid.show_batch()\n"
   ]
  },
  {
   "cell_type": "code",
   "execution_count": 117,
   "metadata": {
    "colab": {
     "base_uri": "https://localhost:8080/"
    },
    "executionInfo": {
     "elapsed": 28,
     "status": "ok",
     "timestamp": 1624772529469,
     "user": {
      "displayName": "Nissan Dookeran",
      "photoUrl": "https://lh3.googleusercontent.com/a-/AOh14GjX7TWnLkg-K8TmlLAPixO8NhfoICak-b5lZGGqXeU=s64",
      "userId": "10969188591745969823"
     },
     "user_tz": -600
    },
    "id": "D-tP2eYftvP-",
    "outputId": "35b5f602-0a0d-4668-bc41-873d1fbbaa5b"
   },
   "outputs": [
    {
     "data": {
      "text/plain": [
       "(149504, 50048)"
      ]
     },
     "execution_count": 117,
     "metadata": {},
     "output_type": "execute_result"
    }
   ],
   "source": [
    "len(dls.train)*bs, len(dls.valid)*val_bs"
   ]
  },
  {
   "cell_type": "code",
   "execution_count": 118,
   "metadata": {
    "executionInfo": {
     "elapsed": 12,
     "status": "ok",
     "timestamp": 1624772529469,
     "user": {
      "displayName": "Nissan Dookeran",
      "photoUrl": "https://lh3.googleusercontent.com/a-/AOh14GjX7TWnLkg-K8TmlLAPixO8NhfoICak-b5lZGGqXeU=s64",
      "userId": "10969188591745969823"
     },
     "user_tz": -600
    },
    "id": "s4vsEsEleKrH"
   },
   "outputs": [],
   "source": [
    "\n",
    "learn = tabular_learner(dls, metrics=accuracy)"
   ]
  },
  {
   "cell_type": "code",
   "execution_count": 119,
   "metadata": {
    "colab": {
     "base_uri": "https://localhost:8080/",
     "height": 300
    },
    "executionInfo": {
     "elapsed": 52630,
     "status": "ok",
     "timestamp": 1624772582088,
     "user": {
      "displayName": "Nissan Dookeran",
      "photoUrl": "https://lh3.googleusercontent.com/a-/AOh14GjX7TWnLkg-K8TmlLAPixO8NhfoICak-b5lZGGqXeU=s64",
      "userId": "10969188591745969823"
     },
     "user_tz": -600
    },
    "id": "LSqZ7iYSZINU",
    "outputId": "6905d223-2e96-4023-9d31-a4ed788c82b6"
   },
   "outputs": [
    {
     "data": {
      "text/html": [],
      "text/plain": [
       "<IPython.core.display.HTML object>"
      ]
     },
     "metadata": {},
     "output_type": "display_data"
    },
    {
     "data": {
      "text/plain": [
       "SuggestedLRs(valley=tensor(0.0014))"
      ]
     },
     "execution_count": 119,
     "metadata": {},
     "output_type": "execute_result"
    },
    {
     "data": {
      "image/png": "[encoded data removed]",
      "text/plain": [
       "<Figure size 432x288 with 1 Axes>"
      ]
     },
     "metadata": {
      "needs_background": "light"
     },
     "output_type": "display_data"
    }
   ],
   "source": [
    "learn.lr_find()"
   ]
  },
  {
   "cell_type": "markdown",
   "metadata": {
    "id": "SgiNitcN6qWR"
   },
   "source": [
    "[Reference to why we use fit_one_cycle](https://fastai1.fast.ai/callbacks.one_cycle.html)"
   ]
  },
  {
   "cell_type": "code",
   "execution_count": 120,
   "metadata": {},
   "outputs": [],
   "source": [
    "lr = 0.0014\n",
    "epochs = 4"
   ]
  },
  {
   "cell_type": "code",
   "execution_count": 121,
   "metadata": {
    "colab": {
     "base_uri": "https://localhost:8080/",
     "height": 235
    },
    "executionInfo": {
     "elapsed": 137506,
     "status": "ok",
     "timestamp": 1624772719588,
     "user": {
      "displayName": "Nissan Dookeran",
      "photoUrl": "https://lh3.googleusercontent.com/a-/AOh14GjX7TWnLkg-K8TmlLAPixO8NhfoICak-b5lZGGqXeU=s64",
      "userId": "10969188591745969823"
     },
     "user_tz": -600
    },
    "id": "-NS3-rDdLbtC",
    "outputId": "bb4a7009-3552-4f04-ee1f-bea1f49eda5b"
   },
   "outputs": [
    {
     "data": {
      "text/html": [
       "<table border=\"1\" class=\"dataframe\">\n",
       "  <thead>\n",
       "    <tr style=\"text-align: left;\">\n",
       "      <th>epoch</th>\n",
       "      <th>train_loss</th>\n",
       "      <th>valid_loss</th>\n",
       "      <th>accuracy</th>\n",
       "      <th>time</th>\n",
       "    </tr>\n",
       "  </thead>\n",
       "  <tbody>\n",
       "    <tr>\n",
       "      <td>0</td>\n",
       "      <td>1.896143</td>\n",
       "      <td>1.822293</td>\n",
       "      <td>0.354460</td>\n",
       "      <td>00:08</td>\n",
       "    </tr>\n",
       "    <tr>\n",
       "      <td>1</td>\n",
       "      <td>1.757242</td>\n",
       "      <td>1.751968</td>\n",
       "      <td>0.357080</td>\n",
       "      <td>00:07</td>\n",
       "    </tr>\n",
       "    <tr>\n",
       "      <td>2</td>\n",
       "      <td>1.730326</td>\n",
       "      <td>1.753791</td>\n",
       "      <td>0.358260</td>\n",
       "      <td>00:07</td>\n",
       "    </tr>\n",
       "    <tr>\n",
       "      <td>3</td>\n",
       "      <td>1.686104</td>\n",
       "      <td>1.768173</td>\n",
       "      <td>0.353260</td>\n",
       "      <td>00:08</td>\n",
       "    </tr>\n",
       "  </tbody>\n",
       "</table>"
      ],
      "text/plain": [
       "<IPython.core.display.HTML object>"
      ]
     },
     "metadata": {},
     "output_type": "display_data"
    }
   ],
   "source": [
    "learn.fit_one_cycle(epochs,lr, wd=wd)"
   ]
  },
  {
   "cell_type": "code",
   "execution_count": 122,
   "metadata": {
    "colab": {
     "base_uri": "https://localhost:8080/",
     "height": 17
    },
    "executionInfo": {
     "elapsed": 1489,
     "status": "ok",
     "timestamp": 1624772721061,
     "user": {
      "displayName": "Nissan Dookeran",
      "photoUrl": "https://lh3.googleusercontent.com/a-/AOh14GjX7TWnLkg-K8TmlLAPixO8NhfoICak-b5lZGGqXeU=s64",
      "userId": "10969188591745969823"
     },
     "user_tz": -600
    },
    "id": "dl43-l_Pk8Vh",
    "outputId": "cf2708de-9fbe-4452-98db-14de58d50346"
   },
   "outputs": [
    {
     "data": {
      "text/html": [],
      "text/plain": [
       "<IPython.core.display.HTML object>"
      ]
     },
     "metadata": {},
     "output_type": "display_data"
    }
   ],
   "source": [
    "preds, targs = learn.get_preds()\n"
   ]
  },
  {
   "cell_type": "code",
   "execution_count": 123,
   "metadata": {
    "colab": {
     "base_uri": "https://localhost:8080/"
    },
    "executionInfo": {
     "elapsed": 38,
     "status": "ok",
     "timestamp": 1624772721062,
     "user": {
      "displayName": "Nissan Dookeran",
      "photoUrl": "https://lh3.googleusercontent.com/a-/AOh14GjX7TWnLkg-K8TmlLAPixO8NhfoICak-b5lZGGqXeU=s64",
      "userId": "10969188591745969823"
     },
     "user_tz": -600
    },
    "id": "3ejPz0s5d5cp",
    "outputId": "d21377af-9d95-4717-d25f-f1d09734001a"
   },
   "outputs": [
    {
     "data": {
      "text/plain": [
       "torch.Size([50000, 9])"
      ]
     },
     "execution_count": 123,
     "metadata": {},
     "output_type": "execute_result"
    }
   ],
   "source": [
    "preds.shape"
   ]
  },
  {
   "cell_type": "code",
   "execution_count": 124,
   "metadata": {
    "colab": {
     "base_uri": "https://localhost:8080/"
    },
    "executionInfo": {
     "elapsed": 36,
     "status": "ok",
     "timestamp": 1624772721062,
     "user": {
      "displayName": "Nissan Dookeran",
      "photoUrl": "https://lh3.googleusercontent.com/a-/AOh14GjX7TWnLkg-K8TmlLAPixO8NhfoICak-b5lZGGqXeU=s64",
      "userId": "10969188591745969823"
     },
     "user_tz": -600
    },
    "id": "mRx42rXqudro",
    "outputId": "e3489e5e-fee5-401c-b537-5d3982b07064"
   },
   "outputs": [
    {
     "data": {
      "text/plain": [
       "tensor([[0.2783, 0.1893, 0.1261, 0.1215, 0.0377, 0.0127, 0.0480, 0.1469, 0.0395]])"
      ]
     },
     "execution_count": 124,
     "metadata": {},
     "output_type": "execute_result"
    }
   ],
   "source": [
    "preds[0:1]"
   ]
  },
  {
   "cell_type": "code",
   "execution_count": 125,
   "metadata": {
    "colab": {
     "base_uri": "https://localhost:8080/"
    },
    "executionInfo": {
     "elapsed": 21,
     "status": "ok",
     "timestamp": 1624772721063,
     "user": {
      "displayName": "Nissan Dookeran",
      "photoUrl": "https://lh3.googleusercontent.com/a-/AOh14GjX7TWnLkg-K8TmlLAPixO8NhfoICak-b5lZGGqXeU=s64",
      "userId": "10969188591745969823"
     },
     "user_tz": -600
    },
    "id": "Ho3qL1m1uODu",
    "outputId": "164b342b-4e44-4be7-e87a-7be8da6e8c00"
   },
   "outputs": [
    {
     "data": {
      "text/plain": [
       "50000"
      ]
     },
     "execution_count": 125,
     "metadata": {},
     "output_type": "execute_result"
    }
   ],
   "source": [
    "len(preds)"
   ]
  },
  {
   "cell_type": "markdown",
   "metadata": {
    "id": "FpM-YYtcb_p9"
   },
   "source": [
    "Doing inferences based on this [blog post](https://walkwithfastai.com/tab.clas.binary) from Walk With Fastai initially, but then experimenting to get this"
   ]
  },
  {
   "cell_type": "code",
   "execution_count": 126,
   "metadata": {
    "executionInfo": {
     "elapsed": 1054,
     "status": "ok",
     "timestamp": 1624772722111,
     "user": {
      "displayName": "Nissan Dookeran",
      "photoUrl": "https://lh3.googleusercontent.com/a-/AOh14GjX7TWnLkg-K8TmlLAPixO8NhfoICak-b5lZGGqXeU=s64",
      "userId": "10969188591745969823"
     },
     "user_tz": -600
    },
    "id": "4ywEtpXmeRX-"
   },
   "outputs": [],
   "source": [
    "dl_test = dls.test_dl(df_test)"
   ]
  },
  {
   "cell_type": "code",
   "execution_count": 127,
   "metadata": {
    "colab": {
     "base_uri": "https://localhost:8080/",
     "height": 17
    },
    "executionInfo": {
     "elapsed": 2800,
     "status": "ok",
     "timestamp": 1624772724905,
     "user": {
      "displayName": "Nissan Dookeran",
      "photoUrl": "https://lh3.googleusercontent.com/a-/AOh14GjX7TWnLkg-K8TmlLAPixO8NhfoICak-b5lZGGqXeU=s64",
      "userId": "10969188591745969823"
     },
     "user_tz": -600
    },
    "id": "egYBgxfuLt_T",
    "outputId": "8f4a5085-35a1-4927-8c77-aae3277e0a8d"
   },
   "outputs": [
    {
     "data": {
      "text/html": [],
      "text/plain": [
       "<IPython.core.display.HTML object>"
      ]
     },
     "metadata": {},
     "output_type": "display_data"
    }
   ],
   "source": [
    "preds, _ = learn.get_preds(dl=dl_test)"
   ]
  },
  {
   "cell_type": "code",
   "execution_count": 128,
   "metadata": {
    "colab": {
     "base_uri": "https://localhost:8080/"
    },
    "executionInfo": {
     "elapsed": 84,
     "status": "ok",
     "timestamp": 1624772724905,
     "user": {
      "displayName": "Nissan Dookeran",
      "photoUrl": "https://lh3.googleusercontent.com/a-/AOh14GjX7TWnLkg-K8TmlLAPixO8NhfoICak-b5lZGGqXeU=s64",
      "userId": "10969188591745969823"
     },
     "user_tz": -600
    },
    "id": "s_5wk2coeRXf",
    "outputId": "97fcaf03-0fef-442e-f987-ffb87ed95dfc"
   },
   "outputs": [
    {
     "data": {
      "text/plain": [
       "torch.Size([100000, 9])"
      ]
     },
     "execution_count": 128,
     "metadata": {},
     "output_type": "execute_result"
    }
   ],
   "source": [
    "preds.shape"
   ]
  },
  {
   "cell_type": "markdown",
   "metadata": {
    "id": "6hKVLPLIkgnv"
   },
   "source": [
    "## Submission To Kaggle"
   ]
  },
  {
   "cell_type": "code",
   "execution_count": 129,
   "metadata": {
    "colab": {
     "base_uri": "https://localhost:8080/"
    },
    "executionInfo": {
     "elapsed": 82,
     "status": "ok",
     "timestamp": 1624772724906,
     "user": {
      "displayName": "Nissan Dookeran",
      "photoUrl": "https://lh3.googleusercontent.com/a-/AOh14GjX7TWnLkg-K8TmlLAPixO8NhfoICak-b5lZGGqXeU=s64",
      "userId": "10969188591745969823"
     },
     "user_tz": -600
    },
    "id": "rSIBxlHYfuUJ",
    "outputId": "42c1b632-b561-4067-80ee-e9fac270878b"
   },
   "outputs": [
    {
     "data": {
      "text/plain": [
       "(#6) [Path('sample_submission.csv'),Path('submission8.csv'),Path('submission9.csv'),Path('tabular-playground-series-jun-2021.zip'),Path('test.csv'),Path('train.csv')]"
      ]
     },
     "execution_count": 129,
     "metadata": {},
     "output_type": "execute_result"
    }
   ],
   "source": [
    "path.ls()"
   ]
  },
  {
   "cell_type": "code",
   "execution_count": 130,
   "metadata": {
    "colab": {
     "base_uri": "https://localhost:8080/",
     "height": 204
    },
    "executionInfo": {
     "elapsed": 67,
     "status": "ok",
     "timestamp": 1624772724907,
     "user": {
      "displayName": "Nissan Dookeran",
      "photoUrl": "https://lh3.googleusercontent.com/a-/AOh14GjX7TWnLkg-K8TmlLAPixO8NhfoICak-b5lZGGqXeU=s64",
      "userId": "10969188591745969823"
     },
     "user_tz": -600
    },
    "id": "GwBqFAZdkmel",
    "outputId": "b38b1724-35c4-4091-fc50-a45c6bd423da"
   },
   "outputs": [
    {
     "data": {
      "text/html": [
       "<div>\n",
       "<style scoped>\n",
       "    .dataframe tbody tr th:only-of-type {\n",
       "        vertical-align: middle;\n",
       "    }\n",
       "\n",
       "    .dataframe tbody tr th {\n",
       "        vertical-align: top;\n",
       "    }\n",
       "\n",
       "    .dataframe thead th {\n",
       "        text-align: right;\n",
       "    }\n",
       "</style>\n",
       "<table border=\"1\" class=\"dataframe\">\n",
       "  <thead>\n",
       "    <tr style=\"text-align: right;\">\n",
       "      <th></th>\n",
       "      <th>id</th>\n",
       "      <th>Class_1</th>\n",
       "      <th>Class_2</th>\n",
       "      <th>Class_3</th>\n",
       "      <th>Class_4</th>\n",
       "      <th>Class_5</th>\n",
       "      <th>Class_6</th>\n",
       "      <th>Class_7</th>\n",
       "      <th>Class_8</th>\n",
       "      <th>Class_9</th>\n",
       "    </tr>\n",
       "  </thead>\n",
       "  <tbody>\n",
       "    <tr>\n",
       "      <th>0</th>\n",
       "      <td>200000</td>\n",
       "      <td>0.1111</td>\n",
       "      <td>0.1111</td>\n",
       "      <td>0.1111</td>\n",
       "      <td>0.1111</td>\n",
       "      <td>0.1111</td>\n",
       "      <td>0.1111</td>\n",
       "      <td>0.1111</td>\n",
       "      <td>0.1111</td>\n",
       "      <td>0.1111</td>\n",
       "    </tr>\n",
       "    <tr>\n",
       "      <th>1</th>\n",
       "      <td>200001</td>\n",
       "      <td>0.1111</td>\n",
       "      <td>0.1111</td>\n",
       "      <td>0.1111</td>\n",
       "      <td>0.1111</td>\n",
       "      <td>0.1111</td>\n",
       "      <td>0.1111</td>\n",
       "      <td>0.1111</td>\n",
       "      <td>0.1111</td>\n",
       "      <td>0.1111</td>\n",
       "    </tr>\n",
       "    <tr>\n",
       "      <th>2</th>\n",
       "      <td>200002</td>\n",
       "      <td>0.1111</td>\n",
       "      <td>0.1111</td>\n",
       "      <td>0.1111</td>\n",
       "      <td>0.1111</td>\n",
       "      <td>0.1111</td>\n",
       "      <td>0.1111</td>\n",
       "      <td>0.1111</td>\n",
       "      <td>0.1111</td>\n",
       "      <td>0.1111</td>\n",
       "    </tr>\n",
       "    <tr>\n",
       "      <th>3</th>\n",
       "      <td>200003</td>\n",
       "      <td>0.1111</td>\n",
       "      <td>0.1111</td>\n",
       "      <td>0.1111</td>\n",
       "      <td>0.1111</td>\n",
       "      <td>0.1111</td>\n",
       "      <td>0.1111</td>\n",
       "      <td>0.1111</td>\n",
       "      <td>0.1111</td>\n",
       "      <td>0.1111</td>\n",
       "    </tr>\n",
       "    <tr>\n",
       "      <th>4</th>\n",
       "      <td>200004</td>\n",
       "      <td>0.1111</td>\n",
       "      <td>0.1111</td>\n",
       "      <td>0.1111</td>\n",
       "      <td>0.1111</td>\n",
       "      <td>0.1111</td>\n",
       "      <td>0.1111</td>\n",
       "      <td>0.1111</td>\n",
       "      <td>0.1111</td>\n",
       "      <td>0.1111</td>\n",
       "    </tr>\n",
       "  </tbody>\n",
       "</table>\n",
       "</div>"
      ],
      "text/plain": [
       "       id  Class_1  Class_2  Class_3  Class_4  Class_5  Class_6  Class_7  \\\n",
       "0  200000   0.1111   0.1111   0.1111   0.1111   0.1111   0.1111   0.1111   \n",
       "1  200001   0.1111   0.1111   0.1111   0.1111   0.1111   0.1111   0.1111   \n",
       "2  200002   0.1111   0.1111   0.1111   0.1111   0.1111   0.1111   0.1111   \n",
       "3  200003   0.1111   0.1111   0.1111   0.1111   0.1111   0.1111   0.1111   \n",
       "4  200004   0.1111   0.1111   0.1111   0.1111   0.1111   0.1111   0.1111   \n",
       "\n",
       "   Class_8  Class_9  \n",
       "0   0.1111   0.1111  \n",
       "1   0.1111   0.1111  \n",
       "2   0.1111   0.1111  \n",
       "3   0.1111   0.1111  \n",
       "4   0.1111   0.1111  "
      ]
     },
     "execution_count": 130,
     "metadata": {},
     "output_type": "execute_result"
    }
   ],
   "source": [
    "df_submission = pd.read_csv(path/\"sample_submission.csv\") #I could add `low_memory=false` but it makes things slower\n",
    "df_submission.head()"
   ]
  },
  {
   "cell_type": "code",
   "execution_count": 131,
   "metadata": {
    "colab": {
     "base_uri": "https://localhost:8080/",
     "height": 204
    },
    "executionInfo": {
     "elapsed": 66,
     "status": "ok",
     "timestamp": 1624772724908,
     "user": {
      "displayName": "Nissan Dookeran",
      "photoUrl": "https://lh3.googleusercontent.com/a-/AOh14GjX7TWnLkg-K8TmlLAPixO8NhfoICak-b5lZGGqXeU=s64",
      "userId": "10969188591745969823"
     },
     "user_tz": -600
    },
    "id": "fZvFxD4Gkuf5",
    "outputId": "4212ec82-4057-459f-be35-5da25b60fa10"
   },
   "outputs": [
    {
     "data": {
      "text/html": [
       "<div>\n",
       "<style scoped>\n",
       "    .dataframe tbody tr th:only-of-type {\n",
       "        vertical-align: middle;\n",
       "    }\n",
       "\n",
       "    .dataframe tbody tr th {\n",
       "        vertical-align: top;\n",
       "    }\n",
       "\n",
       "    .dataframe thead th {\n",
       "        text-align: right;\n",
       "    }\n",
       "</style>\n",
       "<table border=\"1\" class=\"dataframe\">\n",
       "  <thead>\n",
       "    <tr style=\"text-align: right;\">\n",
       "      <th></th>\n",
       "      <th>id</th>\n",
       "      <th>Class_1</th>\n",
       "      <th>Class_2</th>\n",
       "      <th>Class_3</th>\n",
       "      <th>Class_4</th>\n",
       "      <th>Class_5</th>\n",
       "      <th>Class_6</th>\n",
       "      <th>Class_7</th>\n",
       "      <th>Class_8</th>\n",
       "      <th>Class_9</th>\n",
       "    </tr>\n",
       "  </thead>\n",
       "  <tbody>\n",
       "    <tr>\n",
       "      <th>99995</th>\n",
       "      <td>299995</td>\n",
       "      <td>0.1111</td>\n",
       "      <td>0.1111</td>\n",
       "      <td>0.1111</td>\n",
       "      <td>0.1111</td>\n",
       "      <td>0.1111</td>\n",
       "      <td>0.1111</td>\n",
       "      <td>0.1111</td>\n",
       "      <td>0.1111</td>\n",
       "      <td>0.1111</td>\n",
       "    </tr>\n",
       "    <tr>\n",
       "      <th>99996</th>\n",
       "      <td>299996</td>\n",
       "      <td>0.1111</td>\n",
       "      <td>0.1111</td>\n",
       "      <td>0.1111</td>\n",
       "      <td>0.1111</td>\n",
       "      <td>0.1111</td>\n",
       "      <td>0.1111</td>\n",
       "      <td>0.1111</td>\n",
       "      <td>0.1111</td>\n",
       "      <td>0.1111</td>\n",
       "    </tr>\n",
       "    <tr>\n",
       "      <th>99997</th>\n",
       "      <td>299997</td>\n",
       "      <td>0.1111</td>\n",
       "      <td>0.1111</td>\n",
       "      <td>0.1111</td>\n",
       "      <td>0.1111</td>\n",
       "      <td>0.1111</td>\n",
       "      <td>0.1111</td>\n",
       "      <td>0.1111</td>\n",
       "      <td>0.1111</td>\n",
       "      <td>0.1111</td>\n",
       "    </tr>\n",
       "    <tr>\n",
       "      <th>99998</th>\n",
       "      <td>299998</td>\n",
       "      <td>0.1111</td>\n",
       "      <td>0.1111</td>\n",
       "      <td>0.1111</td>\n",
       "      <td>0.1111</td>\n",
       "      <td>0.1111</td>\n",
       "      <td>0.1111</td>\n",
       "      <td>0.1111</td>\n",
       "      <td>0.1111</td>\n",
       "      <td>0.1111</td>\n",
       "    </tr>\n",
       "    <tr>\n",
       "      <th>99999</th>\n",
       "      <td>299999</td>\n",
       "      <td>0.1111</td>\n",
       "      <td>0.1111</td>\n",
       "      <td>0.1111</td>\n",
       "      <td>0.1111</td>\n",
       "      <td>0.1111</td>\n",
       "      <td>0.1111</td>\n",
       "      <td>0.1111</td>\n",
       "      <td>0.1111</td>\n",
       "      <td>0.1111</td>\n",
       "    </tr>\n",
       "  </tbody>\n",
       "</table>\n",
       "</div>"
      ],
      "text/plain": [
       "           id  Class_1  Class_2  Class_3  Class_4  Class_5  Class_6  Class_7  \\\n",
       "99995  299995   0.1111   0.1111   0.1111   0.1111   0.1111   0.1111   0.1111   \n",
       "99996  299996   0.1111   0.1111   0.1111   0.1111   0.1111   0.1111   0.1111   \n",
       "99997  299997   0.1111   0.1111   0.1111   0.1111   0.1111   0.1111   0.1111   \n",
       "99998  299998   0.1111   0.1111   0.1111   0.1111   0.1111   0.1111   0.1111   \n",
       "99999  299999   0.1111   0.1111   0.1111   0.1111   0.1111   0.1111   0.1111   \n",
       "\n",
       "       Class_8  Class_9  \n",
       "99995   0.1111   0.1111  \n",
       "99996   0.1111   0.1111  \n",
       "99997   0.1111   0.1111  \n",
       "99998   0.1111   0.1111  \n",
       "99999   0.1111   0.1111  "
      ]
     },
     "execution_count": 131,
     "metadata": {},
     "output_type": "execute_result"
    }
   ],
   "source": [
    "df_submission.tail()"
   ]
  },
  {
   "cell_type": "code",
   "execution_count": 132,
   "metadata": {
    "colab": {
     "base_uri": "https://localhost:8080/"
    },
    "executionInfo": {
     "elapsed": 63,
     "status": "ok",
     "timestamp": 1624772724908,
     "user": {
      "displayName": "Nissan Dookeran",
      "photoUrl": "https://lh3.googleusercontent.com/a-/AOh14GjX7TWnLkg-K8TmlLAPixO8NhfoICak-b5lZGGqXeU=s64",
      "userId": "10969188591745969823"
     },
     "user_tz": -600
    },
    "id": "Ht5o22qYtkQt",
    "outputId": "fd911d47-9d92-4614-904a-870ec3f8b3c8"
   },
   "outputs": [
    {
     "data": {
      "text/plain": [
       "(100000, 100000)"
      ]
     },
     "execution_count": 132,
     "metadata": {},
     "output_type": "execute_result"
    }
   ],
   "source": [
    "len(df_test.index), len(preds)"
   ]
  },
  {
   "cell_type": "code",
   "execution_count": 133,
   "metadata": {
    "colab": {
     "base_uri": "https://localhost:8080/"
    },
    "executionInfo": {
     "elapsed": 44,
     "status": "ok",
     "timestamp": 1624772724909,
     "user": {
      "displayName": "Nissan Dookeran",
      "photoUrl": "https://lh3.googleusercontent.com/a-/AOh14GjX7TWnLkg-K8TmlLAPixO8NhfoICak-b5lZGGqXeU=s64",
      "userId": "10969188591745969823"
     },
     "user_tz": -600
    },
    "id": "sPwCHW0guxls",
    "outputId": "c890e998-6689-4600-d23b-a15c626d308d"
   },
   "outputs": [
    {
     "data": {
      "text/plain": [
       "torch.Tensor"
      ]
     },
     "execution_count": 133,
     "metadata": {},
     "output_type": "execute_result"
    }
   ],
   "source": [
    "type(preds)"
   ]
  },
  {
   "cell_type": "code",
   "execution_count": 134,
   "metadata": {
    "colab": {
     "base_uri": "https://localhost:8080/"
    },
    "executionInfo": {
     "elapsed": 29,
     "status": "ok",
     "timestamp": 1624772724909,
     "user": {
      "displayName": "Nissan Dookeran",
      "photoUrl": "https://lh3.googleusercontent.com/a-/AOh14GjX7TWnLkg-K8TmlLAPixO8NhfoICak-b5lZGGqXeU=s64",
      "userId": "10969188591745969823"
     },
     "user_tz": -600
    },
    "id": "LhEAemoXyEKO",
    "outputId": "cefd57cb-da35-470c-ce4f-87aab97e103a"
   },
   "outputs": [
    {
     "data": {
      "text/plain": [
       "torch.float32"
      ]
     },
     "execution_count": 134,
     "metadata": {},
     "output_type": "execute_result"
    }
   ],
   "source": [
    "preds.dtype"
   ]
  },
  {
   "cell_type": "code",
   "execution_count": 135,
   "metadata": {
    "colab": {
     "base_uri": "https://localhost:8080/"
    },
    "executionInfo": {
     "elapsed": 610,
     "status": "ok",
     "timestamp": 1624772725506,
     "user": {
      "displayName": "Nissan Dookeran",
      "photoUrl": "https://lh3.googleusercontent.com/a-/AOh14GjX7TWnLkg-K8TmlLAPixO8NhfoICak-b5lZGGqXeU=s64",
      "userId": "10969188591745969823"
     },
     "user_tz": -600
    },
    "id": "FRZkG1jd2VPN",
    "outputId": "4aa25270-9170-4160-f016-0bc49880c63a"
   },
   "outputs": [
    {
     "data": {
      "text/plain": [
       "[[0.14556929469108582,\n",
       "  0.38398420810699463,\n",
       "  0.0492408387362957,\n",
       "  0.17785416543483734,\n",
       "  0.05465058609843254,\n",
       "  0.019792871549725533,\n",
       "  0.024652695283293724,\n",
       "  0.11572658270597458,\n",
       "  0.028528723865747452]]"
      ]
     },
     "execution_count": 135,
     "metadata": {},
     "output_type": "execute_result"
    }
   ],
   "source": [
    "preds_for_submission = preds.tolist() \n",
    "preds_for_submission[0:1]"
   ]
  },
  {
   "cell_type": "code",
   "execution_count": 136,
   "metadata": {
    "executionInfo": {
     "elapsed": 89,
     "status": "ok",
     "timestamp": 1624772725507,
     "user": {
      "displayName": "Nissan Dookeran",
      "photoUrl": "https://lh3.googleusercontent.com/a-/AOh14GjX7TWnLkg-K8TmlLAPixO8NhfoICak-b5lZGGqXeU=s64",
      "userId": "10969188591745969823"
     },
     "user_tz": -600
    },
    "id": "khMw7Qk7tNrC"
   },
   "outputs": [],
   "source": [
    "submission = pd.DataFrame({'id': df_test.index, 'Predictions': preds.tolist()}, columns=['id', 'Predictions'])"
   ]
  },
  {
   "cell_type": "markdown",
   "metadata": {
    "id": "QuL3SgsmJt-l"
   },
   "source": [
    "Needed to figure out how to extract the floating point value alone from the list to properly compose the csv output dataframe"
   ]
  },
  {
   "cell_type": "code",
   "execution_count": 137,
   "metadata": {
    "colab": {
     "base_uri": "https://localhost:8080/"
    },
    "executionInfo": {
     "elapsed": 88,
     "status": "ok",
     "timestamp": 1624772725507,
     "user": {
      "displayName": "Nissan Dookeran",
      "photoUrl": "https://lh3.googleusercontent.com/a-/AOh14GjX7TWnLkg-K8TmlLAPixO8NhfoICak-b5lZGGqXeU=s64",
      "userId": "10969188591745969823"
     },
     "user_tz": -600
    },
    "id": "aG9eahfqCuXY",
    "outputId": "e376cd7c-e21b-4fb3-e01f-ec0b59c6672c"
   },
   "outputs": [
    {
     "data": {
      "text/plain": [
       "pandas.core.series.Series"
      ]
     },
     "execution_count": 137,
     "metadata": {},
     "output_type": "execute_result"
    }
   ],
   "source": [
    "type(submission.Predictions)"
   ]
  },
  {
   "cell_type": "code",
   "execution_count": 138,
   "metadata": {
    "colab": {
     "base_uri": "https://localhost:8080/"
    },
    "executionInfo": {
     "elapsed": 72,
     "status": "ok",
     "timestamp": 1624772725508,
     "user": {
      "displayName": "Nissan Dookeran",
      "photoUrl": "https://lh3.googleusercontent.com/a-/AOh14GjX7TWnLkg-K8TmlLAPixO8NhfoICak-b5lZGGqXeU=s64",
      "userId": "10969188591745969823"
     },
     "user_tz": -600
    },
    "id": "Bej8MxHUCzuf",
    "outputId": "00872e74-88e9-4996-c6c2-cffc760e4ee9"
   },
   "outputs": [
    {
     "data": {
      "text/plain": [
       "float"
      ]
     },
     "execution_count": 138,
     "metadata": {},
     "output_type": "execute_result"
    }
   ],
   "source": [
    "type(submission.Predictions[0][0])"
   ]
  },
  {
   "cell_type": "code",
   "execution_count": 139,
   "metadata": {
    "colab": {
     "base_uri": "https://localhost:8080/"
    },
    "executionInfo": {
     "elapsed": 56,
     "status": "ok",
     "timestamp": 1624772725508,
     "user": {
      "displayName": "Nissan Dookeran",
      "photoUrl": "https://lh3.googleusercontent.com/a-/AOh14GjX7TWnLkg-K8TmlLAPixO8NhfoICak-b5lZGGqXeU=s64",
      "userId": "10969188591745969823"
     },
     "user_tz": -600
    },
    "id": "wpmOYaPTDFPS",
    "outputId": "65705cde-7af2-4eb6-90f6-d949eb536ba8"
   },
   "outputs": [
    {
     "data": {
      "text/plain": [
       "0.14556929469108582"
      ]
     },
     "execution_count": 139,
     "metadata": {},
     "output_type": "execute_result"
    }
   ],
   "source": [
    "submission.Predictions[0][0]"
   ]
  },
  {
   "cell_type": "code",
   "execution_count": 140,
   "metadata": {
    "colab": {
     "base_uri": "https://localhost:8080/"
    },
    "executionInfo": {
     "elapsed": 43,
     "status": "ok",
     "timestamp": 1624772725509,
     "user": {
      "displayName": "Nissan Dookeran",
      "photoUrl": "https://lh3.googleusercontent.com/a-/AOh14GjX7TWnLkg-K8TmlLAPixO8NhfoICak-b5lZGGqXeU=s64",
      "userId": "10969188591745969823"
     },
     "user_tz": -600
    },
    "id": "9M-_WOsyhmfd",
    "outputId": "9998c4dd-0a78-4d34-f685-aab24a2a941b"
   },
   "outputs": [
    {
     "data": {
      "text/plain": [
       "[0.14556929469108582,\n",
       " 0.38398420810699463,\n",
       " 0.0492408387362957,\n",
       " 0.17785416543483734,\n",
       " 0.05465058609843254,\n",
       " 0.019792871549725533,\n",
       " 0.024652695283293724,\n",
       " 0.11572658270597458,\n",
       " 0.028528723865747452]"
      ]
     },
     "execution_count": 140,
     "metadata": {},
     "output_type": "execute_result"
    }
   ],
   "source": [
    "submission.Predictions.tolist()[0]"
   ]
  },
  {
   "cell_type": "code",
   "execution_count": 141,
   "metadata": {
    "colab": {
     "base_uri": "https://localhost:8080/",
     "height": 204
    },
    "executionInfo": {
     "elapsed": 30,
     "status": "ok",
     "timestamp": 1624772725510,
     "user": {
      "displayName": "Nissan Dookeran",
      "photoUrl": "https://lh3.googleusercontent.com/a-/AOh14GjX7TWnLkg-K8TmlLAPixO8NhfoICak-b5lZGGqXeU=s64",
      "userId": "10969188591745969823"
     },
     "user_tz": -600
    },
    "id": "X81SCLQmlAhB",
    "outputId": "ee62fcf3-fa5e-48ba-cfff-996952a2cb47"
   },
   "outputs": [
    {
     "data": {
      "text/html": [
       "<div>\n",
       "<style scoped>\n",
       "    .dataframe tbody tr th:only-of-type {\n",
       "        vertical-align: middle;\n",
       "    }\n",
       "\n",
       "    .dataframe tbody tr th {\n",
       "        vertical-align: top;\n",
       "    }\n",
       "\n",
       "    .dataframe thead th {\n",
       "        text-align: right;\n",
       "    }\n",
       "</style>\n",
       "<table border=\"1\" class=\"dataframe\">\n",
       "  <thead>\n",
       "    <tr style=\"text-align: right;\">\n",
       "      <th></th>\n",
       "      <th>id</th>\n",
       "      <th>Predictions</th>\n",
       "    </tr>\n",
       "  </thead>\n",
       "  <tbody>\n",
       "    <tr>\n",
       "      <th>0</th>\n",
       "      <td>200000</td>\n",
       "      <td>[0.14556929469108582, 0.38398420810699463, 0.0492408387362957, 0.17785416543483734, 0.05465058609843254, 0.019792871549725533, 0.024652695283293724, 0.11572658270597458, 0.028528723865747452]</td>\n",
       "    </tr>\n",
       "    <tr>\n",
       "      <th>1</th>\n",
       "      <td>200001</td>\n",
       "      <td>[0.30568018555641174, 0.06748361885547638, 0.2821882963180542, 0.069472536444664, 0.05176167190074921, 0.011320285499095917, 0.08354373276233673, 0.10796741396188736, 0.020582210272550583]</td>\n",
       "    </tr>\n",
       "    <tr>\n",
       "      <th>2</th>\n",
       "      <td>200002</td>\n",
       "      <td>[0.7500181794166565, 0.026834947988390923, 0.08841108530759811, 0.02269136719405651, 0.009151597507297993, 0.007910830900073051, 0.026987241581082344, 0.05289360508322716, 0.015101218596100807]</td>\n",
       "    </tr>\n",
       "    <tr>\n",
       "      <th>3</th>\n",
       "      <td>200003</td>\n",
       "      <td>[0.2330009788274765, 0.10760820657014847, 0.23307044804096222, 0.07857377827167511, 0.05705545097589493, 0.02363131381571293, 0.06864532828330994, 0.1658260077238083, 0.03258843347430229]</td>\n",
       "    </tr>\n",
       "    <tr>\n",
       "      <th>4</th>\n",
       "      <td>200004</td>\n",
       "      <td>[0.3362259268760681, 0.10346393287181854, 0.2263432741165161, 0.08009770512580872, 0.04384588450193405, 0.009048418141901493, 0.0585983507335186, 0.11896053701639175, 0.02341604232788086]</td>\n",
       "    </tr>\n",
       "  </tbody>\n",
       "</table>\n",
       "</div>"
      ],
      "text/plain": [
       "       id  \\\n",
       "0  200000   \n",
       "1  200001   \n",
       "2  200002   \n",
       "3  200003   \n",
       "4  200004   \n",
       "\n",
       "                                                                                                                                                                                         Predictions  \n",
       "0    [0.14556929469108582, 0.38398420810699463, 0.0492408387362957, 0.17785416543483734, 0.05465058609843254, 0.019792871549725533, 0.024652695283293724, 0.11572658270597458, 0.028528723865747452]  \n",
       "1       [0.30568018555641174, 0.06748361885547638, 0.2821882963180542, 0.069472536444664, 0.05176167190074921, 0.011320285499095917, 0.08354373276233673, 0.10796741396188736, 0.020582210272550583]  \n",
       "2  [0.7500181794166565, 0.026834947988390923, 0.08841108530759811, 0.02269136719405651, 0.009151597507297993, 0.007910830900073051, 0.026987241581082344, 0.05289360508322716, 0.015101218596100807]  \n",
       "3        [0.2330009788274765, 0.10760820657014847, 0.23307044804096222, 0.07857377827167511, 0.05705545097589493, 0.02363131381571293, 0.06864532828330994, 0.1658260077238083, 0.03258843347430229]  \n",
       "4        [0.3362259268760681, 0.10346393287181854, 0.2263432741165161, 0.08009770512580872, 0.04384588450193405, 0.009048418141901493, 0.0585983507335186, 0.11896053701639175, 0.02341604232788086]  "
      ]
     },
     "execution_count": 141,
     "metadata": {},
     "output_type": "execute_result"
    }
   ],
   "source": [
    "submission.head()"
   ]
  },
  {
   "cell_type": "code",
   "execution_count": 142,
   "metadata": {
    "colab": {
     "base_uri": "https://localhost:8080/"
    },
    "executionInfo": {
     "elapsed": 28,
     "status": "ok",
     "timestamp": 1624772725510,
     "user": {
      "displayName": "Nissan Dookeran",
      "photoUrl": "https://lh3.googleusercontent.com/a-/AOh14GjX7TWnLkg-K8TmlLAPixO8NhfoICak-b5lZGGqXeU=s64",
      "userId": "10969188591745969823"
     },
     "user_tz": -600
    },
    "id": "PgWntN3-h612",
    "outputId": "851c452f-11c5-4a96-eb67-196e251ed508"
   },
   "outputs": [
    {
     "data": {
      "text/plain": [
       "RangeIndex(start=0, stop=100000, step=1)"
      ]
     },
     "execution_count": 142,
     "metadata": {},
     "output_type": "execute_result"
    }
   ],
   "source": [
    "submission.index"
   ]
  },
  {
   "cell_type": "code",
   "execution_count": 143,
   "metadata": {
    "executionInfo": {
     "elapsed": 492,
     "status": "ok",
     "timestamp": 1624772725991,
     "user": {
      "displayName": "Nissan Dookeran",
      "photoUrl": "https://lh3.googleusercontent.com/a-/AOh14GjX7TWnLkg-K8TmlLAPixO8NhfoICak-b5lZGGqXeU=s64",
      "userId": "10969188591745969823"
     },
     "user_tz": -600
    },
    "id": "R50mtSJog9Md"
   },
   "outputs": [],
   "source": [
    "submission[['Class_1','Class_2', 'Class_3', 'Class_4', 'Class_5', 'Class_6', 'Class_7', 'Class_8', 'Class_9']] = pd.DataFrame(submission.Predictions.tolist(), index= submission.index)"
   ]
  },
  {
   "cell_type": "code",
   "execution_count": 144,
   "metadata": {
    "colab": {
     "base_uri": "https://localhost:8080/",
     "height": 289
    },
    "executionInfo": {
     "elapsed": 60,
     "status": "ok",
     "timestamp": 1624772725992,
     "user": {
      "displayName": "Nissan Dookeran",
      "photoUrl": "https://lh3.googleusercontent.com/a-/AOh14GjX7TWnLkg-K8TmlLAPixO8NhfoICak-b5lZGGqXeU=s64",
      "userId": "10969188591745969823"
     },
     "user_tz": -600
    },
    "id": "MtIMaua1gne8",
    "outputId": "1bf4d4cb-0d6d-4a92-9ae7-6ad187225ab4"
   },
   "outputs": [
    {
     "data": {
      "text/html": [
       "<div>\n",
       "<style scoped>\n",
       "    .dataframe tbody tr th:only-of-type {\n",
       "        vertical-align: middle;\n",
       "    }\n",
       "\n",
       "    .dataframe tbody tr th {\n",
       "        vertical-align: top;\n",
       "    }\n",
       "\n",
       "    .dataframe thead th {\n",
       "        text-align: right;\n",
       "    }\n",
       "</style>\n",
       "<table border=\"1\" class=\"dataframe\">\n",
       "  <thead>\n",
       "    <tr style=\"text-align: right;\">\n",
       "      <th></th>\n",
       "      <th>id</th>\n",
       "      <th>Predictions</th>\n",
       "      <th>Class_1</th>\n",
       "      <th>Class_2</th>\n",
       "      <th>Class_3</th>\n",
       "      <th>Class_4</th>\n",
       "      <th>Class_5</th>\n",
       "      <th>Class_6</th>\n",
       "      <th>Class_7</th>\n",
       "      <th>Class_8</th>\n",
       "      <th>Class_9</th>\n",
       "    </tr>\n",
       "  </thead>\n",
       "  <tbody>\n",
       "    <tr>\n",
       "      <th>0</th>\n",
       "      <td>200000</td>\n",
       "      <td>[0.14556929469108582, 0.38398420810699463, 0.0492408387362957, 0.17785416543483734, 0.05465058609843254, 0.019792871549725533, 0.024652695283293724, 0.11572658270597458, 0.028528723865747452]</td>\n",
       "      <td>0.145569</td>\n",
       "      <td>0.383984</td>\n",
       "      <td>0.049241</td>\n",
       "      <td>0.177854</td>\n",
       "      <td>0.054651</td>\n",
       "      <td>0.019793</td>\n",
       "      <td>0.024653</td>\n",
       "      <td>0.115727</td>\n",
       "      <td>0.028529</td>\n",
       "    </tr>\n",
       "    <tr>\n",
       "      <th>1</th>\n",
       "      <td>200001</td>\n",
       "      <td>[0.30568018555641174, 0.06748361885547638, 0.2821882963180542, 0.069472536444664, 0.05176167190074921, 0.011320285499095917, 0.08354373276233673, 0.10796741396188736, 0.020582210272550583]</td>\n",
       "      <td>0.305680</td>\n",
       "      <td>0.067484</td>\n",
       "      <td>0.282188</td>\n",
       "      <td>0.069473</td>\n",
       "      <td>0.051762</td>\n",
       "      <td>0.011320</td>\n",
       "      <td>0.083544</td>\n",
       "      <td>0.107967</td>\n",
       "      <td>0.020582</td>\n",
       "    </tr>\n",
       "    <tr>\n",
       "      <th>2</th>\n",
       "      <td>200002</td>\n",
       "      <td>[0.7500181794166565, 0.026834947988390923, 0.08841108530759811, 0.02269136719405651, 0.009151597507297993, 0.007910830900073051, 0.026987241581082344, 0.05289360508322716, 0.015101218596100807]</td>\n",
       "      <td>0.750018</td>\n",
       "      <td>0.026835</td>\n",
       "      <td>0.088411</td>\n",
       "      <td>0.022691</td>\n",
       "      <td>0.009152</td>\n",
       "      <td>0.007911</td>\n",
       "      <td>0.026987</td>\n",
       "      <td>0.052894</td>\n",
       "      <td>0.015101</td>\n",
       "    </tr>\n",
       "    <tr>\n",
       "      <th>3</th>\n",
       "      <td>200003</td>\n",
       "      <td>[0.2330009788274765, 0.10760820657014847, 0.23307044804096222, 0.07857377827167511, 0.05705545097589493, 0.02363131381571293, 0.06864532828330994, 0.1658260077238083, 0.03258843347430229]</td>\n",
       "      <td>0.233001</td>\n",
       "      <td>0.107608</td>\n",
       "      <td>0.233070</td>\n",
       "      <td>0.078574</td>\n",
       "      <td>0.057055</td>\n",
       "      <td>0.023631</td>\n",
       "      <td>0.068645</td>\n",
       "      <td>0.165826</td>\n",
       "      <td>0.032588</td>\n",
       "    </tr>\n",
       "    <tr>\n",
       "      <th>4</th>\n",
       "      <td>200004</td>\n",
       "      <td>[0.3362259268760681, 0.10346393287181854, 0.2263432741165161, 0.08009770512580872, 0.04384588450193405, 0.009048418141901493, 0.0585983507335186, 0.11896053701639175, 0.02341604232788086]</td>\n",
       "      <td>0.336226</td>\n",
       "      <td>0.103464</td>\n",
       "      <td>0.226343</td>\n",
       "      <td>0.080098</td>\n",
       "      <td>0.043846</td>\n",
       "      <td>0.009048</td>\n",
       "      <td>0.058598</td>\n",
       "      <td>0.118961</td>\n",
       "      <td>0.023416</td>\n",
       "    </tr>\n",
       "  </tbody>\n",
       "</table>\n",
       "</div>"
      ],
      "text/plain": [
       "       id  \\\n",
       "0  200000   \n",
       "1  200001   \n",
       "2  200002   \n",
       "3  200003   \n",
       "4  200004   \n",
       "\n",
       "                                                                                                                                                                                         Predictions  \\\n",
       "0    [0.14556929469108582, 0.38398420810699463, 0.0492408387362957, 0.17785416543483734, 0.05465058609843254, 0.019792871549725533, 0.024652695283293724, 0.11572658270597458, 0.028528723865747452]   \n",
       "1       [0.30568018555641174, 0.06748361885547638, 0.2821882963180542, 0.069472536444664, 0.05176167190074921, 0.011320285499095917, 0.08354373276233673, 0.10796741396188736, 0.020582210272550583]   \n",
       "2  [0.7500181794166565, 0.026834947988390923, 0.08841108530759811, 0.02269136719405651, 0.009151597507297993, 0.007910830900073051, 0.026987241581082344, 0.05289360508322716, 0.015101218596100807]   \n",
       "3        [0.2330009788274765, 0.10760820657014847, 0.23307044804096222, 0.07857377827167511, 0.05705545097589493, 0.02363131381571293, 0.06864532828330994, 0.1658260077238083, 0.03258843347430229]   \n",
       "4        [0.3362259268760681, 0.10346393287181854, 0.2263432741165161, 0.08009770512580872, 0.04384588450193405, 0.009048418141901493, 0.0585983507335186, 0.11896053701639175, 0.02341604232788086]   \n",
       "\n",
       "    Class_1   Class_2   Class_3   Class_4   Class_5   Class_6   Class_7  \\\n",
       "0  0.145569  0.383984  0.049241  0.177854  0.054651  0.019793  0.024653   \n",
       "1  0.305680  0.067484  0.282188  0.069473  0.051762  0.011320  0.083544   \n",
       "2  0.750018  0.026835  0.088411  0.022691  0.009152  0.007911  0.026987   \n",
       "3  0.233001  0.107608  0.233070  0.078574  0.057055  0.023631  0.068645   \n",
       "4  0.336226  0.103464  0.226343  0.080098  0.043846  0.009048  0.058598   \n",
       "\n",
       "    Class_8   Class_9  \n",
       "0  0.115727  0.028529  \n",
       "1  0.107967  0.020582  \n",
       "2  0.052894  0.015101  \n",
       "3  0.165826  0.032588  \n",
       "4  0.118961  0.023416  "
      ]
     },
     "execution_count": 144,
     "metadata": {},
     "output_type": "execute_result"
    }
   ],
   "source": [
    "submission.head()"
   ]
  },
  {
   "cell_type": "code",
   "execution_count": 145,
   "metadata": {
    "executionInfo": {
     "elapsed": 60,
     "status": "ok",
     "timestamp": 1624772725993,
     "user": {
      "displayName": "Nissan Dookeran",
      "photoUrl": "https://lh3.googleusercontent.com/a-/AOh14GjX7TWnLkg-K8TmlLAPixO8NhfoICak-b5lZGGqXeU=s64",
      "userId": "10969188591745969823"
     },
     "user_tz": -600
    },
    "id": "Nu_-JpGauD94"
   },
   "outputs": [],
   "source": [
    "submission.drop([\"Predictions\"],axis=1, inplace=True)"
   ]
  },
  {
   "cell_type": "code",
   "execution_count": 146,
   "metadata": {
    "colab": {
     "base_uri": "https://localhost:8080/",
     "height": 204
    },
    "executionInfo": {
     "elapsed": 60,
     "status": "ok",
     "timestamp": 1624772725994,
     "user": {
      "displayName": "Nissan Dookeran",
      "photoUrl": "https://lh3.googleusercontent.com/a-/AOh14GjX7TWnLkg-K8TmlLAPixO8NhfoICak-b5lZGGqXeU=s64",
      "userId": "10969188591745969823"
     },
     "user_tz": -600
    },
    "id": "a12jPb34vli7",
    "outputId": "1b6a8407-21f0-42fe-cdb4-b9b84a283c5e"
   },
   "outputs": [
    {
     "data": {
      "text/html": [
       "<div>\n",
       "<style scoped>\n",
       "    .dataframe tbody tr th:only-of-type {\n",
       "        vertical-align: middle;\n",
       "    }\n",
       "\n",
       "    .dataframe tbody tr th {\n",
       "        vertical-align: top;\n",
       "    }\n",
       "\n",
       "    .dataframe thead th {\n",
       "        text-align: right;\n",
       "    }\n",
       "</style>\n",
       "<table border=\"1\" class=\"dataframe\">\n",
       "  <thead>\n",
       "    <tr style=\"text-align: right;\">\n",
       "      <th></th>\n",
       "      <th>id</th>\n",
       "      <th>Class_1</th>\n",
       "      <th>Class_2</th>\n",
       "      <th>Class_3</th>\n",
       "      <th>Class_4</th>\n",
       "      <th>Class_5</th>\n",
       "      <th>Class_6</th>\n",
       "      <th>Class_7</th>\n",
       "      <th>Class_8</th>\n",
       "      <th>Class_9</th>\n",
       "    </tr>\n",
       "  </thead>\n",
       "  <tbody>\n",
       "    <tr>\n",
       "      <th>0</th>\n",
       "      <td>200000</td>\n",
       "      <td>0.145569</td>\n",
       "      <td>0.383984</td>\n",
       "      <td>0.049241</td>\n",
       "      <td>0.177854</td>\n",
       "      <td>0.054651</td>\n",
       "      <td>0.019793</td>\n",
       "      <td>0.024653</td>\n",
       "      <td>0.115727</td>\n",
       "      <td>0.028529</td>\n",
       "    </tr>\n",
       "    <tr>\n",
       "      <th>1</th>\n",
       "      <td>200001</td>\n",
       "      <td>0.305680</td>\n",
       "      <td>0.067484</td>\n",
       "      <td>0.282188</td>\n",
       "      <td>0.069473</td>\n",
       "      <td>0.051762</td>\n",
       "      <td>0.011320</td>\n",
       "      <td>0.083544</td>\n",
       "      <td>0.107967</td>\n",
       "      <td>0.020582</td>\n",
       "    </tr>\n",
       "    <tr>\n",
       "      <th>2</th>\n",
       "      <td>200002</td>\n",
       "      <td>0.750018</td>\n",
       "      <td>0.026835</td>\n",
       "      <td>0.088411</td>\n",
       "      <td>0.022691</td>\n",
       "      <td>0.009152</td>\n",
       "      <td>0.007911</td>\n",
       "      <td>0.026987</td>\n",
       "      <td>0.052894</td>\n",
       "      <td>0.015101</td>\n",
       "    </tr>\n",
       "    <tr>\n",
       "      <th>3</th>\n",
       "      <td>200003</td>\n",
       "      <td>0.233001</td>\n",
       "      <td>0.107608</td>\n",
       "      <td>0.233070</td>\n",
       "      <td>0.078574</td>\n",
       "      <td>0.057055</td>\n",
       "      <td>0.023631</td>\n",
       "      <td>0.068645</td>\n",
       "      <td>0.165826</td>\n",
       "      <td>0.032588</td>\n",
       "    </tr>\n",
       "    <tr>\n",
       "      <th>4</th>\n",
       "      <td>200004</td>\n",
       "      <td>0.336226</td>\n",
       "      <td>0.103464</td>\n",
       "      <td>0.226343</td>\n",
       "      <td>0.080098</td>\n",
       "      <td>0.043846</td>\n",
       "      <td>0.009048</td>\n",
       "      <td>0.058598</td>\n",
       "      <td>0.118961</td>\n",
       "      <td>0.023416</td>\n",
       "    </tr>\n",
       "  </tbody>\n",
       "</table>\n",
       "</div>"
      ],
      "text/plain": [
       "       id   Class_1   Class_2   Class_3   Class_4   Class_5   Class_6  \\\n",
       "0  200000  0.145569  0.383984  0.049241  0.177854  0.054651  0.019793   \n",
       "1  200001  0.305680  0.067484  0.282188  0.069473  0.051762  0.011320   \n",
       "2  200002  0.750018  0.026835  0.088411  0.022691  0.009152  0.007911   \n",
       "3  200003  0.233001  0.107608  0.233070  0.078574  0.057055  0.023631   \n",
       "4  200004  0.336226  0.103464  0.226343  0.080098  0.043846  0.009048   \n",
       "\n",
       "    Class_7   Class_8   Class_9  \n",
       "0  0.024653  0.115727  0.028529  \n",
       "1  0.083544  0.107967  0.020582  \n",
       "2  0.026987  0.052894  0.015101  \n",
       "3  0.068645  0.165826  0.032588  \n",
       "4  0.058598  0.118961  0.023416  "
      ]
     },
     "execution_count": 146,
     "metadata": {},
     "output_type": "execute_result"
    }
   ],
   "source": [
    "submission.head()"
   ]
  },
  {
   "cell_type": "code",
   "execution_count": 147,
   "metadata": {
    "executionInfo": {
     "elapsed": 2302,
     "status": "ok",
     "timestamp": 1624772759018,
     "user": {
      "displayName": "Nissan Dookeran",
      "photoUrl": "https://lh3.googleusercontent.com/a-/AOh14GjX7TWnLkg-K8TmlLAPixO8NhfoICak-b5lZGGqXeU=s64",
      "userId": "10969188591745969823"
     },
     "user_tz": -600
    },
    "id": "5PJR5yUu0GCL"
   },
   "outputs": [],
   "source": [
    "submission.to_csv(path/'submission10.csv', index=False)"
   ]
  },
  {
   "cell_type": "code",
   "execution_count": 148,
   "metadata": {
    "colab": {
     "base_uri": "https://localhost:8080/"
    },
    "executionInfo": {
     "elapsed": 1838,
     "status": "ok",
     "timestamp": 1624772764139,
     "user": {
      "displayName": "Nissan Dookeran",
      "photoUrl": "https://lh3.googleusercontent.com/a-/AOh14GjX7TWnLkg-K8TmlLAPixO8NhfoICak-b5lZGGqXeU=s64",
      "userId": "10969188591745969823"
     },
     "user_tz": -600
    },
    "id": "95tf0tq00IDc",
    "outputId": "92397a02-b554-4cf6-e882-3978d736f6b2"
   },
   "outputs": [
    {
     "name": "stderr",
     "output_type": "stream",
     "text": [
      "100%|██████████| 17.9M/17.9M [00:10<00:00, 1.81MB/s]\n"
     ]
    },
    {
     "data": {
      "text/plain": [
       "Successfully submitted to Tabular Playground Series - Jun 2021"
      ]
     },
     "execution_count": 148,
     "metadata": {},
     "output_type": "execute_result"
    }
   ],
   "source": [
    "api.competition_submit(path/'submission10.csv',message=\"Tenth pass\", competition='tabular-playground-series-jun-2021')"
   ]
  },
  {
   "cell_type": "code",
   "execution_count": 149,
   "metadata": {
    "colab": {
     "base_uri": "https://localhost:8080/"
    },
    "executionInfo": {
     "elapsed": 58,
     "status": "ok",
     "timestamp": 1624772725995,
     "user": {
      "displayName": "Nissan Dookeran",
      "photoUrl": "https://lh3.googleusercontent.com/a-/AOh14GjX7TWnLkg-K8TmlLAPixO8NhfoICak-b5lZGGqXeU=s64",
      "userId": "10969188591745969823"
     },
     "user_tz": -600
    },
    "id": "QUP-_gYJ1j1B",
    "outputId": "765ca847-1339-4185-93f6-351d80d98ad6"
   },
   "outputs": [
    {
     "data": {
      "text/plain": [
       "Path('models/tabular-playground-series-jun-2021_fastai_nn9.pth')"
      ]
     },
     "execution_count": 149,
     "metadata": {},
     "output_type": "execute_result"
    }
   ],
   "source": [
    "learn.save('tabular-playground-series-jun-2021_fastai_nn9')"
   ]
  },
  {
   "cell_type": "code",
   "execution_count": null,
   "metadata": {},
   "outputs": [],
   "source": []
  }
 ],
 "metadata": {
  "accelerator": "GPU",
  "colab": {
   "authorship_tag": "ABX9TyNxDrOhg6svtcAGbtuIuTWf",
   "collapsed_sections": [],
   "name": "2021-06-27-Using-Fastai-For-tabular-playground-series-jun-2021.ipynb",
   "provenance": [
    {
     "file_id": "1hfLGRbW2LfVmIhs5_trC0VvYU_azwOzS",
     "timestamp": 1624728553446
    },
    {
     "file_id": "12cswr3Iv4YsjYi7GgqI5pMTxC8IJJHiE",
     "timestamp": 1624692245165
    }
   ]
  },
  "kernelspec": {
   "display_name": "Python 3",
   "language": "python",
   "name": "python3"
  },
  "language_info": {
   "codemirror_mode": {
    "name": "ipython",
    "version": 3
   },
   "file_extension": ".py",
   "mimetype": "text/x-python",
   "name": "python",
   "nbconvert_exporter": "python",
   "pygments_lexer": "ipython3",
   "version": "3.9.5"
  }
 },
 "nbformat": 4,
 "nbformat_minor": 4
}
